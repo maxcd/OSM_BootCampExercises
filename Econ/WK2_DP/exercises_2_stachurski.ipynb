{
 "cells": [
  {
   "cell_type": "markdown",
   "metadata": {},
   "source": [
    "## Exercise Set 2 for OSM \n",
    "\n",
    "### Dynamic Programming with John Stachurski"
   ]
  },
  {
   "cell_type": "markdown",
   "metadata": {},
   "source": [
    "Exercises for the [OSM](https://bfi.uchicago.edu/osm) bootcamp dynamic programming section.\n",
    "\n",
    "We will use the following libraries:"
   ]
  },
  {
   "cell_type": "code",
   "execution_count": 1,
   "metadata": {
    "collapsed": true,
    "scrolled": true
   },
   "outputs": [],
   "source": [
    "import numpy as np\n",
    "import matplotlib.pyplot as plt\n",
    "import quantecon as qe"
   ]
  },
  {
   "cell_type": "markdown",
   "metadata": {},
   "source": [
    "### Exercise 1"
   ]
  },
  {
   "cell_type": "markdown",
   "metadata": {},
   "source": [
    "Consider the setting of the [stochastic optimal growth model](https://lectures.quantecon.org/py/optgrowth.html), with the same notation and same assumptions on the primitives $u$, $f$, $\\beta$ and $\\phi$. \n",
    "\n",
    "Let $\\mathscr C$ be all continuous bounded functions on $\\mathbb R_+$.\n",
    "\n",
    "Let $\\sigma \\in \\Sigma$ be any feasible policy and let $U$ be the operator from $\\mathscr C$ to itself defined by\n",
    "\n",
    "$$ Uw(y) = u(\\sigma(y)) + \\beta \\int w(f(y - \\sigma(y))z) \\phi(dz) \\qquad (y \\in \\mathbb R_+)$$\n",
    "\n",
    "Prove that $U$ is a contraction mapping with respect to the supremum distance.  Argue that the unique fixed point of $U$ in $\\mathscr C$ is $v_\\sigma$.\n",
    "\n",
    "(\"Argue\" means provide a sketch of a proof that contains the key ideas, plus some intuition.  Or give a complete, formal proof, if you can.)"
   ]
  },
  {
   "cell_type": "markdown",
   "metadata": {},
   "source": [
    "#### Answer:\n",
    "I have typed the proof in the pdf document bcause it would not conserve format and size of the math environment when uploading the notebook on gitHub for some reason."
   ]
  },
  {
   "cell_type": "markdown",
   "metadata": {},
   "source": [
    "### Exercise 2"
   ]
  },
  {
   "cell_type": "markdown",
   "metadata": {},
   "source": [
    "Notation and concepts continue from exercise 2.\n",
    "\n",
    "Use the fact you proved in exercise 2, combined with piecewise linear interpolation method we used for the Bellman operator, to compute and plot good approximations of the value $v_\\sigma$ of the policies\n",
    "\n",
    "* $\\sigma_1(y) = 0.95 y$\n",
    "* $\\sigma_2(y) = H(y) y$ where $H$ is the cdf of the lognormal $LN(0, 0.5)$ distribution.\n",
    "\n",
    "For the latter use `scipy.stats.lognorm.cdf(y, 0.5)`\n",
    "\n",
    "For the primitives, use the default specification in the `LogLinearOG` class from the [stochastic optimal growth model lecture](https://lectures.quantecon.org/py/optgrowth.html).\n",
    "\n",
    "Plot your results, choosing grid and plotting dimensions to best illustrate the two functions.  Based on the plot alone, argue that neither of these policies is an optimal policy."
   ]
  },
  {
   "cell_type": "code",
   "execution_count": 7,
   "metadata": {
    "collapsed": true
   },
   "outputs": [],
   "source": [
    "from scipy.optimize import fminbound\n",
    "from scipy.stats import lognorm\n",
    "\n",
    "def U_operator(w, grid, beta, u, f, shocks, Tw=None, compute_policy=0, use_sigma=0):\n",
    "    \"\"\"\n",
    "    The approximate Bellman operator, which computes and returns the\n",
    "    updated value function Tw on the grid points.  An array to store\n",
    "    the new set of values Tw is optionally supplied (to avoid having to\n",
    "    allocate new arrays at each iteration).  If supplied, any existing data in \n",
    "    Tw will be overwritten.\n",
    "\n",
    "    Parameters\n",
    "    ----------\n",
    "    w : array_like(float, ndim=1)\n",
    "        The value of the input function on different grid points\n",
    "    grid : array_like(float, ndim=1)\n",
    "        The set of grid points\n",
    "    beta : scalar\n",
    "        The discount factor\n",
    "    u : function\n",
    "        The utility function\n",
    "    f : function\n",
    "        The production function\n",
    "    shocks : numpy array\n",
    "        An array of draws from the shock, for Monte Carlo integration (to\n",
    "        compute expectations).\n",
    "    Tw : array_like(float, ndim=1) optional (default=None)\n",
    "        Array to write output values to\n",
    "    compute_policy : Boolean, optional (default=False)\n",
    "        Whether or not to compute policy function\n",
    "\n",
    "    \"\"\"\n",
    "    # === Apply linear interpolation to w === #\n",
    "    w_func = lambda x: np.interp(x, grid, w)\n",
    "\n",
    "    # == Initialize Tw if necessary == #\n",
    "    if Tw is None:\n",
    "        Tw = np.empty_like(w)\n",
    "\n",
    "    if compute_policy:\n",
    "        sigma = np.empty_like(w)\n",
    "    \n",
    "    if use_sigma == 1:\n",
    "        def sig(y):\n",
    "            return  0.95*y\n",
    "    elif use_sigma == 2:\n",
    "        def sig(y):\n",
    "            return lognorm.cdf(y, 0.5) * y\n",
    "    else:\n",
    "        def sig(y):\n",
    "            return y\n",
    "\n",
    "    # == set Tw[i] = max_c { u(c) + beta E w(f(y  - c) z)} == #\n",
    "    for i, y in enumerate(grid):\n",
    "        def objective(y):\n",
    "            return - u(sig(y)) - beta * np.mean(w_func(f(y - sig(y)) * shocks))\n",
    "        #c_star = fminbound(objective, 1e-10, y)\n",
    "        c_star = y\n",
    "        if compute_policy:\n",
    "            sigma[i] = c_star\n",
    "        Tw[i] = - objective(c_star)\n",
    "\n",
    "    if compute_policy:\n",
    "        return Tw, sigma\n",
    "    else:\n",
    "        return Tw"
   ]
  },
  {
   "cell_type": "code",
   "execution_count": 8,
   "metadata": {
    "collapsed": true
   },
   "outputs": [],
   "source": [
    "class LogLinearOG:\n",
    "    \"\"\"\n",
    "    Log linear optimal growth model, with log utility, CD production and\n",
    "    multiplicative lognormal shock, so that\n",
    "\n",
    "        y = f(k, z) = z k^alpha\n",
    "\n",
    "    with z ~ LN(mu, s).\n",
    "\n",
    "    The class holds parameters and true value and policy functions.\n",
    "    \"\"\"\n",
    "\n",
    "    def __init__(self, alpha=0.4, beta=0.96, mu=0, s=0.1):\n",
    "\n",
    "        self.alpha, self.beta, self.mu, self.s = alpha, beta, mu, s \n",
    "\n",
    "        # == Some useful constants == #\n",
    "        self.ab = alpha * beta\n",
    "        self.c1 = np.log(1 - self.ab) / (1 - beta)\n",
    "        self.c2 = (mu + alpha * np.log(self.ab)) / (1 - alpha)\n",
    "        self.c3 = 1 / (1 - beta)\n",
    "        self.c4 = 1 / (1 - self.ab)\n",
    "\n",
    "    def u(self, c):\n",
    "        \" Utility \"\n",
    "        return np.log(c)\n",
    "\n",
    "    def u_prime(self, c):\n",
    "        return 1 / c\n",
    "\n",
    "    def f(self, k):\n",
    "        \" Deterministic part of production function.  \"\n",
    "        return k**self.alpha\n",
    "\n",
    "    def f_prime(self, k):\n",
    "        return self.alpha * k**(self.alpha - 1)\n",
    "\n",
    "    def c_star(self, y):\n",
    "        \" True optimal policy.  \"\n",
    "        return (1 - self.alpha * self.beta) * y\n",
    "\n",
    "    def v_star(self, y):\n",
    "        \" True value function. \"\n",
    "        return self.c1 + self.c2 * (self.c3 - self.c4) + self.c4 * np.log(y)\n",
    "\n",
    "lg = LogLinearOG()\n",
    "alpha, beta, mu, s = lg.alpha, lg.beta, lg.mu, lg.s\n",
    "v_star = lg.v_star"
   ]
  },
  {
   "cell_type": "code",
   "execution_count": 9,
   "metadata": {
    "collapsed": true
   },
   "outputs": [],
   "source": [
    "grid_max = 4         \n",
    "grid_size = 200      \n",
    "shock_size = 250     \n",
    "\n",
    "grid = np.linspace(1e-5, grid_max, grid_size)\n",
    "shocks = np.exp(mu + s * np.random.randn(shock_size))\n",
    "\n",
    "w = U_operator(v_star(grid),\n",
    "                     grid,\n",
    "                     beta,\n",
    "                     np.log,\n",
    "                     lambda k: k**alpha,\n",
    "                     shocks,\n",
    "                     use_sigma=1)\n",
    "\n",
    "q = U_operator(v_star(grid),\n",
    "                     grid,\n",
    "                     beta,\n",
    "                     np.log,\n",
    "                     lambda k: k**alpha,\n",
    "                     shocks,\n",
    "                     use_sigma=2)\n",
    "# fig, ax = plt.subplots(figsize=(9, 5))\n",
    "# ax.set_ylim(-45, -21)\n",
    "# ax.plot(grid, w, lw=2, alpha=0.6, label=r'$v_{\\sigma_1}$')\n",
    "# ax.plot(grid, q, lw=2, alpha=0.6, label=r'$v_{\\sigma_2}$')\n",
    "# ax.plot(grid, v_star(grid), lw=2, alpha=0.6, label='$v^*$')\n",
    "# ax.set_xlabel(r'$y$')\n",
    "# ax.legend(loc='lower right')\n",
    "# plt.show()"
   ]
  },
  {
   "cell_type": "code",
   "execution_count": 14,
   "metadata": {},
   "outputs": [
    {
     "name": "stdout",
     "output_type": "stream",
     "text": [
      "Iteration    Distance       Elapsed (seconds)\n",
      "---------------------------------------------\n",
      "10           1.292e+00      6.008e-02         \n",
      "20           7.846e-01      1.041e-01         \n",
      "30           5.118e-01      1.482e-01         \n",
      "40           3.390e-01      1.923e-01         \n",
      "50           2.252e-01      2.403e-01         \n",
      "60           1.497e-01      2.844e-01         \n",
      "70           9.951e-02      3.284e-01         \n",
      "80           6.616e-02      3.725e-01         \n",
      "90           4.398e-02      4.126e-01         \n",
      "100          2.924e-02      4.646e-01         \n",
      "110          1.944e-02      5.087e-01         \n",
      "120          1.293e-02      5.527e-01         \n",
      "130          8.593e-03      5.928e-01         \n",
      "140          5.713e-03      6.368e-01         \n",
      "150          3.798e-03      6.850e-01         \n",
      "160          2.525e-03      7.370e-01         \n",
      "170          1.679e-03      8.211e-01         \n",
      "180          1.116e-03      8.932e-01         \n",
      "190          7.420e-04      9.613e-01         \n",
      "200          4.933e-04      1.021e+00         \n",
      "210          3.280e-04      1.081e+00         \n",
      "220          2.181e-04      1.142e+00         \n",
      "230          1.450e-04      1.190e+00         \n",
      "240          9.638e-05      1.230e+00         \n",
      "250          6.408e-05      1.274e+00         \n",
      "260          4.260e-05      1.318e+00         \n",
      "270          2.832e-05      1.414e+00         \n",
      "280          1.883e-05      1.486e+00         \n",
      "290          1.252e-05      1.546e+00         \n",
      "296          9.799e-06      1.582e+00         \n",
      "Converged in 296 steps\n"
     ]
    }
   ],
   "source": [
    "from quantecon import compute_fixed_point\n",
    "Tw = np.empty(len(grid))\n",
    "initial_w = 5 * np.log(grid)\n",
    "\n",
    "T1 = lambda w: U_operator(w,\n",
    "                               grid,\n",
    "                               beta,\n",
    "                               np.log,\n",
    "                               lambda k: k**alpha,\n",
    "                               shocks,\n",
    "                               compute_policy=False,\n",
    "                                use_sigma=1)\n",
    "\n",
    "v_star_approx1 = compute_fixed_point(T1, initial_w,\n",
    "                                    error_tol=1e-5,  # error_tol\n",
    "                                    max_iter=500,   # max_iter\n",
    "                                    verbose=2,  # verbose\n",
    "                                    print_skip=10,     # print_skip\n",
    "                                    method='iteration')"
   ]
  },
  {
   "cell_type": "code",
   "execution_count": 15,
   "metadata": {},
   "outputs": [
    {
     "name": "stdout",
     "output_type": "stream",
     "text": [
      "Iteration    Distance       Elapsed (seconds)\n",
      "---------------------------------------------\n",
      "10           1.411e+00      4.086e-01         \n",
      "20           6.570e-01      8.171e-01         \n",
      "30           4.366e-01      1.394e+00         \n",
      "40           2.903e-01      1.830e+00         \n",
      "50           1.930e-01      2.295e+00         \n",
      "60           1.283e-01      2.732e+00         \n",
      "70           8.530e-02      3.116e+00         \n",
      "80           5.671e-02      3.505e+00         \n",
      "90           3.770e-02      3.941e+00         \n",
      "100          2.507e-02      4.474e+00         \n",
      "110          1.666e-02      4.923e+00         \n",
      "120          1.108e-02      5.307e+00         \n",
      "130          7.366e-03      5.692e+00         \n",
      "140          4.897e-03      6.100e+00         \n",
      "150          3.256e-03      6.505e+00         \n",
      "160          2.165e-03      6.949e+00         \n",
      "170          1.439e-03      7.434e+00         \n",
      "180          9.567e-04      7.971e+00         \n",
      "190          6.361e-04      8.475e+00         \n",
      "200          4.229e-04      8.972e+00         \n",
      "210          2.811e-04      9.477e+00         \n",
      "220          1.869e-04      9.925e+00         \n",
      "230          1.243e-04      1.032e+01         \n",
      "240          8.261e-05      1.080e+01         \n",
      "250          5.493e-05      1.119e+01         \n",
      "260          3.652e-05      1.159e+01         \n",
      "270          2.428e-05      1.198e+01         \n",
      "280          1.614e-05      1.236e+01         \n",
      "290          1.073e-05      1.282e+01         \n",
      "292          9.889e-06      1.290e+01         \n",
      "Converged in 292 steps\n"
     ]
    }
   ],
   "source": [
    "Tw = np.empty(len(grid))\n",
    "initial_w = 5 * np.log(grid)\n",
    "\n",
    "T2 = lambda w: U_operator(w,\n",
    "                               grid,\n",
    "                               beta,\n",
    "                               np.log,\n",
    "                               lambda k: k**alpha,\n",
    "                               shocks,\n",
    "                               compute_policy=False,\n",
    "                                use_sigma=2)\n",
    "\n",
    "v_star_approx2 = compute_fixed_point(T2, initial_w,\n",
    "                                    error_tol=1e-5,  # error_tol\n",
    "                                    max_iter=500,   # max_iter\n",
    "                                    verbose=2,  # verbose\n",
    "                                    print_skip=10,     # print_skip\n",
    "                                    method='iteration')"
   ]
  },
  {
   "cell_type": "code",
   "execution_count": 27,
   "metadata": {
    "scrolled": true
   },
   "outputs": [
    {
     "data": {
      "image/png": "[encoded data removed]",
      "text/plain": [
       "<matplotlib.figure.Figure at 0x2447e0cbac8>"
      ]
     },
     "metadata": {},
     "output_type": "display_data"
    }
   ],
   "source": [
    "fig, axes = plt.subplots(2,1, figsize=(9, 5))\n",
    "axes[0].set_ylim(-60, -24)\n",
    "axes[0].plot(grid, v_star_approx1, lw=2, alpha=0.6, label='approximate value function $v_{\\sigma_1}$')\n",
    "axes[0].plot(grid, v_star(grid), lw=2, alpha=0.6, label='optimal value function $v*$ ')\n",
    "axes[0].legend(loc='lower right')\n",
    "\n",
    "axes[1].set_ylim(-60, -24)\n",
    "axes[1].plot(grid, v_star_approx2, lw=2, alpha=0.6, label='approximate value function $v_{\\sigma_2}$')\n",
    "axes[1].plot(grid, v_star(grid), lw=2, alpha=0.6, label='optimal value function $v*$ ')\n",
    "axes[1].legend(loc='lower right')\n",
    "plt.show()"
   ]
  },
  {
   "cell_type": "markdown",
   "metadata": {},
   "source": [
    "The optimal value function $v*$ being above the approximations for $v_{\\sigma_1}$ and  $v_{\\sigma_2}$ indicates that the functional forms $\\sigma_1$ and $\\sigma_2$ of the policy function that do not coincide with the optimal policy function, unsurprrisingly, lead to a loss in the value function compared to the optimal case $v*$. In the case of $v_{\\sigma_1}$ the relative loss seems to be quite constant whereas the relative loss of $v_{\\sigma_2}$ compared to $v*$ reaches is increasing for $y>2$ . However, the relative loss for $v_{\\sigma_2}$ is still smaller than the loss of $v_{\\sigma_1}$ for most of the plotted domain."
   ]
  }
 ],
 "metadata": {
  "kernelspec": {
   "display_name": "Python [default]",
   "language": "python",
   "name": "python3"
  },
  "language_info": {
   "codemirror_mode": {
    "name": "ipython",
    "version": 3
   },
   "file_extension": ".py",
   "mimetype": "text/x-python",
   "name": "python",
   "nbconvert_exporter": "python",
   "pygments_lexer": "ipython3",
   "version": "3.5.3"
  }
 },
 "nbformat": 4,
 "nbformat_minor": 2
}
