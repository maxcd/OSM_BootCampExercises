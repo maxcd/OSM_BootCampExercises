{
 "cells": [
  {
   "cell_type": "markdown",
   "metadata": {},
   "source": [
    "## Exercise Set 1 for OSM \n",
    "\n",
    "### Dynamic Programming with John Stachurski"
   ]
  },
  {
   "cell_type": "markdown",
   "metadata": {},
   "source": [
    "This notebook contains the first set of exercises for the [OSM](https://bfi.uchicago.edu/osm) bootcamp dynamic programming section.\n",
    "\n",
    "We will use the following libraries:"
   ]
  },
  {
   "cell_type": "code",
   "execution_count": 1,
   "metadata": {
    "collapsed": true
   },
   "outputs": [],
   "source": [
    "import numpy as np\n",
    "import matplotlib.pyplot as plt"
   ]
  },
  {
   "cell_type": "markdown",
   "metadata": {},
   "source": [
    "### Exercise 1\n",
    "\n",
    "Consider the data"
   ]
  },
  {
   "cell_type": "code",
   "execution_count": 17,
   "metadata": {
    "collapsed": true
   },
   "outputs": [],
   "source": [
    "A = [[0.6, 0.1, -0.3],\n",
    "     [0.5, -0.4, 0.2],\n",
    "     [1.0, -0.2, 1.1]]\n",
    "\n",
    "b = [[12],\n",
    "     [10],\n",
    "     [-1]]\n",
    "\n",
    "A, b = map(np.asarray, (A, b))"
   ]
  },
  {
   "cell_type": "markdown",
   "metadata": {
    "collapsed": true
   },
   "source": [
    "The equation $x = A x + b$ has a unique solution in $\\mathbb R^3$.  Show that this is true by checking the spectral radius condition."
   ]
  },
  {
   "cell_type": "code",
   "execution_count": 3,
   "metadata": {},
   "outputs": [
    {
     "name": "stdout",
     "output_type": "stream",
     "text": [
      "0.965538166352\n"
     ]
    }
   ],
   "source": [
    "from scipy.linalg import eigvals, solve\n",
    "evs = eigvals(A)\n",
    "ρ = max(abs(evs))\n",
    "print(ρ)"
   ]
  },
  {
   "cell_type": "markdown",
   "metadata": {},
   "source": [
    "Compute the solution using both successive approximations --- that is,\n",
    "\n",
    "$$ x_{t+1} = A x_t + b $$\n",
    "\n",
    "and matrix algebra."
   ]
  },
  {
   "cell_type": "code",
   "execution_count": 11,
   "metadata": {
    "collapsed": true
   },
   "outputs": [],
   "source": [
    "def approx(x_init, A, b, tol, max_iters=1000):\n",
    "    repeat = True\n",
    "    tolerance = tol\n",
    "    x_old = x_init.copy()\n",
    "    while repeat == True:\n",
    "        iters = 1\n",
    "        x_new = A @ x_old + b\n",
    "        err = np.linalg.norm(x_new - x_old)\n",
    "        if max_iters == iters:\n",
    "            repeat = False\n",
    "        if err <= tolerance:\n",
    "            repeat = False\n",
    "        else:\n",
    "            del(x_old)\n",
    "            x_old = x_new\n",
    "            del(x_new)\n",
    "            \n",
    "        iters += 1\n",
    "        \n",
    "    return x_new     "
   ]
  },
  {
   "cell_type": "code",
   "execution_count": 22,
   "metadata": {},
   "outputs": [
    {
     "data": {
      "text/plain": [
       "array([[ -0.897],\n",
       "       [ 13.343],\n",
       "       [ 45.645]])"
      ]
     },
     "execution_count": 22,
     "metadata": {},
     "output_type": "execute_result"
    }
   ],
   "source": [
    "start = np.array([1, 1, 1]).reshape(3,1)\n",
    "convergence = 1e-3\n",
    "x_star = approx(start, A, b, convergence)\n",
    "x_star.round(3)"
   ]
  },
  {
   "cell_type": "code",
   "execution_count": 26,
   "metadata": {},
   "outputs": [
    {
     "data": {
      "text/plain": [
       "array([[ -0.89552239],\n",
       "       [ 13.34328358],\n",
       "       [ 45.64179104]])"
      ]
     },
     "execution_count": 26,
     "metadata": {},
     "output_type": "execute_result"
    }
   ],
   "source": [
    "I = np.eye(3)\n",
    "A_prime = I - A\n",
    "x_star_alg = solve(A_prime, b)\n",
    "x_star_alg"
   ]
  },
  {
   "cell_type": "markdown",
   "metadata": {},
   "source": [
    "### Exercise 2"
   ]
  },
  {
   "cell_type": "markdown",
   "metadata": {},
   "source": [
    "In a standard job search model, an agent \n",
    "\n",
    "\n",
    "* receives offer $w_t$ in period $t$ where $\\{w_t\\}$ is  iid\n",
    "* accepts this offer at time $t$ or remains unemployed\n",
    "    *  if remains unemployed, then receives compensation $c > 0$\n",
    "    * if accepts, then works indefinitely at this wage\n",
    "\n",
    "The agent discounts the future at rate $\\beta \\in (0, 1)$\n",
    "\n",
    "\n",
    "It can be shown that the following is an optimal strategy: \n",
    "\n",
    "* Set a reservation wage $\\bar w$\n",
    "* Accept the first offer $w_t$ such that $w_t \\geq \\bar w$\n",
    "\n",
    "\n",
    "It can also be shown (details omitted) that $\\bar w$ should satisfy\n",
    "\n",
    "$$\n",
    "    \\bar w\n",
    "    = c (1-\\beta) + \\beta\n",
    "    \\sum_{k=1}^K \\max \\left\\{\n",
    "        w_k ,\\, \\bar w\n",
    "    \\right\\}\n",
    "    \\, p_k\n",
    "$$\n",
    "\n",
    "Here \n",
    "\n",
    "* $w_1, \\ldots, w_K$ are the possible wage values, occuring with probabilities $p_1, \\ldots, p_K$\n",
    "* $c > 0$\n",
    "\n",
    "Does there always exists a $x \\in [0, \\infty)$ that solves the equation\n",
    "$$\n",
    "    x\n",
    "    = c (1-\\beta) + \\beta\n",
    "    \\sum_{k=1}^K \\max \\left\\{\n",
    "        w_k ,\\, x\n",
    "    \\right\\}\n",
    "    \\, p_k\n",
    "$$\n",
    "Is it unique?  Suggest a strategy for computing it"
   ]
  },
  {
   "cell_type": "markdown",
   "metadata": {},
   "source": [
    "#### Hints\n",
    "\n",
    "There are different ways to show this, but I found the following facts useful:\n",
    "\n",
    "*  If $x_1, \\ldots, x_K$ are any $K$ numbers, then\n",
    "\n",
    "$$ \\left| \\sum_{k=1}^K x_k \\right| \\leq \\sum_{k=1}^K |x_k| $$\n",
    "\n",
    "* For any $a, x, y$ in $\\mathbb R$, \n",
    "    \n",
    "$$ \n",
    "    \\left| \n",
    "            \\max \\left\\{ a,\\, x \\right\\} - \\max \\left\\{ a,\\, y \\right\\} \n",
    "        \\right|\n",
    "        \\leq | x - y |\n",
    "$$\n",
    "\n",
    "\n",
    "You can convince yourself of the second inequality by sketching and checking different cases..."
   ]
  },
  {
   "cell_type": "markdown",
   "metadata": {},
   "source": [
    "#### Answer:\n",
    "Need to show that this is actually a contracion mapping.\n",
    "\n",
    "$$\n",
    "\\left| \\, c(1- \\beta) +\\beta \\sum_{k=1}^K \n",
    "\\max \\left\\{ w_k,\\, x \\right\\}\\, p_k - c(1- \\beta) - \\beta \\sum_{k=1}^K \n",
    "\\max \\left\\{ w_k,\\, y \\right\\}\\, p_k \\right| \\\\\n",
    "= \\left| \\,  +\\beta \\sum_{k=1}^K \n",
    "\\max \\left\\{ w_k,\\, x \\right\\}\\, p_k  - \\beta \\sum_{k=1}^K \n",
    "\\max \\left\\{ w_k,\\, y \\right\\}\\, p_k \\right| \\\\\n",
    "=\\left| \\, \\beta \\left( \\sum_{k=1}^K \n",
    "\\max \\left\\{ w_k,\\, x \\right\\} \\, p_k -\n",
    "\\max \\left\\{ w_k,\\, y \\right\\} \\, p_k \\right) \\right| \\\\\n",
    "\\leq \\beta \\sum_{k=1}^K |\\max \\left\\{ w_k,\\, x \\right\\} \\, p_k - \\max \\left\\{ w_k,\\, y \\right\\} \\, p_k | \\\\\n",
    "\\leq \\beta \\sum_{k=1}^K \\, p_k |x-y| \n",
    "= \\beta  |x-y| \\sum_{k=1}^K \\, p_k = \\beta  |x-y| \n",
    "$$\n",
    "\n",
    "It is, because the condition $\\rho(Tx, Ty) \\leq \\alpha \\rho(x, y)$ is satisfied. So, just iterating over it like in the previous excersise."
   ]
  },
  {
   "cell_type": "markdown",
   "metadata": {},
   "source": [
    "### Exercise 3"
   ]
  },
  {
   "cell_type": "markdown",
   "metadata": {},
   "source": [
    "Let \n",
    "\n",
    "* $\\beta = 0.96$\n",
    "* $(w_1, w_2, w_3) = (0.5, 1.0, 1.5)$\n",
    "* $(p_1, p_2, p_3) = (0.2, 0.4, 0.4)$\n",
    "\n",
    "Compute and plot the reservation wage for unemployment compensation values"
   ]
  },
  {
   "cell_type": "code",
   "execution_count": 58,
   "metadata": {
    "collapsed": true
   },
   "outputs": [],
   "source": [
    "def get_wbar(x_init, wvec, pvec, c_val, beta, tol, max_iters=1000):\n",
    "    \n",
    "    repeat = True\n",
    "    x_old = x_init\n",
    "    while repeat:\n",
    "        iters = 1\n",
    "        max_w = np.maximum(wvec, x_old)\n",
    "        wp = max_w @ pvec.T\n",
    "        x_new = c_val * (1 - beta) + beta * wp\n",
    "        \n",
    "        err = x_new - x_old\n",
    "        dev = np.linalg.norm(err)\n",
    "        if dev <= tol:\n",
    "            repeat = False\n",
    "        if iters == max_iters:\n",
    "            print('maximum iterations reached')\n",
    "            break\n",
    "        \n",
    "        del(x_old)\n",
    "        x_old = x_new.copy()\n",
    "        del(x_new)\n",
    "        iters +=1\n",
    "        \n",
    "    return x_old\n",
    "        "
   ]
  },
  {
   "cell_type": "code",
   "execution_count": 67,
   "metadata": {},
   "outputs": [
    {
     "data": {
      "image/png": "[encoded data removed]",
      "text/plain": [
       "<matplotlib.figure.Figure at 0x20c0dc7df28>"
      ]
     },
     "metadata": {},
     "output_type": "display_data"
    }
   ],
   "source": [
    "c_vals = np.linspace(1, 2, 100)\n",
    "wvec = np.array([[0.5, 1.0, 1.5]])\n",
    "pvec = np.array([[0.2, 0.4, 0.4]])\n",
    "x_start = 1\n",
    "\n",
    "w_bar = np.zeros(100)\n",
    "for i in range(100):\n",
    "    w_bar[i] = get_wbar(x_init=1, wvec=wvec, pvec=pvec, c_val=c_vals[i],\n",
    "                        beta=0.96, tol=1e-4)\n",
    "\n",
    "fig, ax = plt.subplots()\n",
    "ax.plot(c_vals, w_bar, label='revervation wage')\n",
    "ax.set_xlabel('compensation when umemployed')\n",
    "plt.legend()\n",
    "plt.show()"
   ]
  },
  {
   "cell_type": "markdown",
   "metadata": {},
   "source": [
    "Is the reservation wage increasing or decreasing in this value?  Does that coincide with your intuition?"
   ]
  },
  {
   "cell_type": "markdown",
   "metadata": {
    "collapsed": true
   },
   "source": [
    "The reservation wage is, of course, an increasing function of the compensation $c$ that agents get when umemployed. A maximizing agent will only consider to work if the the net present value of working exceeds the opportunity cost which is given by $c$. In the case of equality of the two the agent is indifferent."
   ]
  }
 ],
 "metadata": {
  "kernelspec": {
   "display_name": "Python [default]",
   "language": "python",
   "name": "python3"
  },
  "language_info": {
   "codemirror_mode": {
    "name": "ipython",
    "version": 3
   },
   "file_extension": ".py",
   "mimetype": "text/x-python",
   "name": "python",
   "nbconvert_exporter": "python",
   "pygments_lexer": "ipython3",
   "version": "3.5.3"
  }
 },
 "nbformat": 4,
 "nbformat_minor": 2
}
