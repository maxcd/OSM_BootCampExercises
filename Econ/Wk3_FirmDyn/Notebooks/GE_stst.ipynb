{
 "cells": [
  {
   "cell_type": "markdown",
   "metadata": {},
   "source": [
    "## Exercise 4.\n",
    "#### Solving for the general Equilibruíum (Steady State)"
   ]
  },
  {
   "cell_type": "code",
   "execution_count": 1,
   "metadata": {
    "collapsed": true
   },
   "outputs": [],
   "source": [
    "# Import packages\n",
    "import numpy as np\n",
    "import matplotlib.pyplot as plt\n",
    "import seaborn as sns\n",
    "import time\n",
    "from numba import jit\n",
    "\n",
    "# to print plots inline\n",
    "%matplotlib inline"
   ]
  },
  {
   "cell_type": "code",
   "execution_count": 2,
   "metadata": {
    "collapsed": true
   },
   "outputs": [],
   "source": [
    "# Firm parameters\n",
    "alpha_k = 0.29715\n",
    "alpha_l = 0.65\n",
    "delta = 0.154\n",
    "psi = 1.08\n",
    "r = 0.04\n",
    "betafirm = (1 / (1 + r))\n",
    "\n",
    "# Prodductivity shocks\n",
    "sigma_eps = 0.213\n",
    "rho = 0.7605\n",
    "sigma_z = sigma_eps / ((1 - rho ** 2) ** (1 / 2))\n",
    "mu = 0.0\n",
    "N = 9"
   ]
  },
  {
   "cell_type": "code",
   "execution_count": 4,
   "metadata": {},
   "outputs": [
    {
     "name": "stdout",
     "output_type": "stream",
     "text": [
      "Cut-off values =  [       -inf -0.40040229 -0.25084498 -0.14128994 -0.04582867  0.04582867\n",
      "  0.14128994  0.25084498  0.40040229         inf]\n"
     ]
    }
   ],
   "source": [
    "# set up the prodiúctivity shocks\n",
    "num_draws = 100000 # number of shocks to draw\n",
    "eps = np.random.normal(0.0, sigma_z, size=(num_draws))\n",
    "\n",
    "z = np.empty(num_draws)\n",
    "z[0] = 0.0 + eps[0]\n",
    "for i in range(1, num_draws):\n",
    "    z[i] = rho * z[i - 1] + (1 - rho) * mu + eps[i]\n",
    "\n",
    "# compute grid points for z\n",
    "from scipy.stats import norm\n",
    "\n",
    "# Compute cut-off values\n",
    "Nz = 9  # number of grid points (will have one more cut-off point than this)\n",
    "z_cutoffs = (sigma_z * norm.ppf(np.arange(N + 1) / N)) + mu\n",
    "#print('Cut-off values = ', z_cutoffs)\n",
    "\n",
    "z_grid = ((N * sigma_z * (norm.pdf((z_cutoffs[:-1] - mu) / sigma_z)\n",
    "                              - norm.pdf((z_cutoffs[1:] - mu) / sigma_z)))\n",
    "              + mu)\n",
    "#print('Grid points = ', z_grid)"
   ]
  },
  {
   "cell_type": "code",
   "execution_count": 5,
   "metadata": {},
   "outputs": [
    {
     "ename": "NameError",
     "evalue": "name 'w' is not defined",
     "output_type": "error",
     "traceback": [
      "\u001b[1;31m---------------------------------------------------------------------------\u001b[0m",
      "\u001b[1;31mNameError\u001b[0m                                 Traceback (most recent call last)",
      "\u001b[1;32m<ipython-input-5-4e459e20d320>\u001b[0m in \u001b[0;36m<module>\u001b[1;34m()\u001b[0m\n\u001b[0;32m      3\u001b[0m \u001b[0mdens\u001b[0m \u001b[1;33m=\u001b[0m \u001b[1;36m1\u001b[0m\u001b[1;33m\u001b[0m\u001b[0m\n\u001b[0;32m      4\u001b[0m \u001b[1;31m# put in bounds here for the capital stock space\u001b[0m\u001b[1;33m\u001b[0m\u001b[1;33m\u001b[0m\u001b[0m\n\u001b[1;32m----> 5\u001b[1;33m kstar = ((((1 / betafirm - 1 + delta) * ((w / alpha_l) **\n\u001b[0m\u001b[0;32m      6\u001b[0m                                          (alpha_l / (1 - alpha_l)))) /\n\u001b[0;32m      7\u001b[0m          (alpha_k * (1 ** (1 / (1 - alpha_l))))) **\n",
      "\u001b[1;31mNameError\u001b[0m: name 'w' is not defined"
     ]
    }
   ],
   "source": [
    "# make the grid for k\n",
    "def make_grid(dens, w, )\n",
    "    dens = 1\n",
    "    # put in bounds here for the capital stock space\n",
    "    kstar = ((((1 / betafirm - 1 + delta) * ((w / alpha_l) **\n",
    "                                             (alpha_l / (1 - alpha_l)))) /\n",
    "             (alpha_k * (1 ** (1 / (1 - alpha_l))))) **\n",
    "             ((1 - alpha_l) / (alpha_k + alpha_l - 1)))\n",
    "    kbar = 2*kstar\n",
    "    lb_k = 0.001\n",
    "    ub_k = kbar\n",
    "    krat = np.log(lb_k / ub_k)\n",
    "    numb = np.ceil(krat / np.log(1 - delta))\n",
    "    K = np.zeros(int(numb * dens))\n",
    "    # we'll create in a way where we pin down the upper bound - since\n",
    "    # the distance will be small near the lower bound, we'll miss that by little\n",
    "    for j in range(int(numb * dens)):\n",
    "        K[j] = ub_k * (1 - delta) ** (j / dens)\n",
    "    kvec = K[::-1]\n",
    "    sizek = kvec.shape[0]"
   ]
  },
  {
   "cell_type": "code",
   "execution_count": null,
   "metadata": {
    "collapsed": true
   },
   "outputs": [],
   "source": []
  }
 ],
 "metadata": {
  "kernelspec": {
   "display_name": "Python [default]",
   "language": "python",
   "name": "python3"
  },
  "language_info": {
   "codemirror_mode": {
    "name": "ipython",
    "version": 3
   },
   "file_extension": ".py",
   "mimetype": "text/x-python",
   "name": "python",
   "nbconvert_exporter": "python",
   "pygments_lexer": "ipython3",
   "version": "3.5.3"
  }
 },
 "nbformat": 4,
 "nbformat_minor": 2
}
