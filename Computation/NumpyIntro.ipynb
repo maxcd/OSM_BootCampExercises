{
 "cells": [
  {
   "cell_type": "code",
   "execution_count": 1,
   "metadata": {
    "collapsed": true
   },
   "outputs": [],
   "source": [
    "import numpy as np "
   ]
  },
  {
   "cell_type": "code",
   "execution_count": 3,
   "metadata": {},
   "outputs": [],
   "source": [
    "np.array([8, 4, 6, 0, 2]);"
   ]
  },
  {
   "cell_type": "markdown",
   "metadata": {},
   "source": [
    "Problem 1."
   ]
  },
  {
   "cell_type": "code",
   "execution_count": 6,
   "metadata": {
    "collapsed": true
   },
   "outputs": [],
   "source": [
    "def dot_prod():\n",
    "    A = np.array([[3, -1, 4], [1, 5, -9]])\n",
    "    B = np.array([[2, 6, -5, 3], [5, -8, 9, 7], [9, -3, -2, -3]])\n",
    "    AB = np.dot(A,B)\n",
    "    return AB"
   ]
  },
  {
   "cell_type": "code",
   "execution_count": 8,
   "metadata": {},
   "outputs": [
    {
     "data": {
      "text/plain": [
       "array([[ 37,  14, -32, -10],\n",
       "       [-54,  -7,  58,  65]])"
      ]
     },
     "execution_count": 8,
     "metadata": {},
     "output_type": "execute_result"
    }
   ],
   "source": [
    "dot_prod()"
   ]
  },
  {
   "cell_type": "markdown",
   "metadata": {},
   "source": [
    "Problem 2."
   ]
  },
  {
   "cell_type": "code",
   "execution_count": 12,
   "metadata": {},
   "outputs": [],
   "source": [
    "def make_poly_A():\n",
    "    A = np.array([[3, 1, 4], [1, 5, 4], [-5, 3, 1]])\n",
    "    A2 = np.dot(A, A)\n",
    "    A3 = np.dot(A2, A)\n",
    "    poly_A = -A3 + 9*A2 - 15*A\n",
    "    return poly_A"
   ]
  },
  {
   "cell_type": "code",
   "execution_count": 20,
   "metadata": {},
   "outputs": [
    {
     "data": {
      "text/plain": [
       "array([[-25,  15,  60],\n",
       "       [ 15,   5,  60],\n",
       "       [-75,  45, -55]])"
      ]
     },
     "execution_count": 20,
     "metadata": {},
     "output_type": "execute_result"
    }
   ],
   "source": [
    "make_poly_A()"
   ]
  },
  {
   "cell_type": "markdown",
   "metadata": {},
   "source": [
    "Problem 3."
   ]
  },
  {
   "cell_type": "code",
   "execution_count": 34,
   "metadata": {},
   "outputs": [],
   "source": [
    "def ABA():    \n",
    "    ones = np.ones_like(np.eye(7))\n",
    "    A = np.triu(ones)\n",
    "    neg_ones = np.tril(ones * (-1))\n",
    "    fives = 5 * np.triu(ones)\n",
    "    B = neg_ones + fives\n",
    "    np.fill_diagonal(B, -1)\n",
    "    ABA = A @ B @ A\n",
    "    return ABA.astype(np.int64)"
   ]
  },
  {
   "cell_type": "code",
   "execution_count": 36,
   "metadata": {},
   "outputs": [
    {
     "data": {
      "text/plain": [
       "array([[ -7,  -8,  -3,   8,  25,  48,  77],\n",
       "       [ -6, -12, -12,  -6,   6,  24,  48],\n",
       "       [ -5, -10, -15, -14,  -7,   6,  25],\n",
       "       [ -4,  -8, -12, -16, -14,  -6,   8],\n",
       "       [ -3,  -6,  -9, -12, -15, -12,  -3],\n",
       "       [ -2,  -4,  -6,  -8, -10, -12,  -8],\n",
       "       [ -1,  -2,  -3,  -4,  -5,  -6,  -7]], dtype=int64)"
      ]
     },
     "execution_count": 36,
     "metadata": {},
     "output_type": "execute_result"
    }
   ],
   "source": [
    "ABA()"
   ]
  },
  {
   "cell_type": "markdown",
   "metadata": {},
   "source": [
    "Problem 4."
   ]
  },
  {
   "cell_type": "code",
   "execution_count": 41,
   "metadata": {},
   "outputs": [
    {
     "data": {
      "text/plain": [
       "array([[-3.,  1.,  1.,  1.,  1.,  1.,  1.],\n",
       "       [ 1., -3.,  1.,  1.,  1.,  1.,  1.],\n",
       "       [ 1.,  1., -3.,  1.,  1.,  1.,  1.],\n",
       "       [ 1.,  1.,  1., -3.,  1.,  1.,  1.],\n",
       "       [ 1.,  1.,  1.,  1., -3.,  1.,  1.],\n",
       "       [ 1.,  1.,  1.,  1.,  1., -3.,  1.],\n",
       "       [ 1.,  1.,  1.,  1.,  1.,  1., -3.]])"
      ]
     },
     "execution_count": 41,
     "metadata": {},
     "output_type": "execute_result"
    }
   ],
   "source": [
    "# define a matrix that has some negative values\n",
    "A = np.ones([7,7])\n",
    "np.fill_diagonal(A, -3)\n",
    "A"
   ]
  },
  {
   "cell_type": "code",
   "execution_count": 50,
   "metadata": {},
   "outputs": [],
   "source": [
    "def replace_neg_vals(matrix):\n",
    "    B = np.copy(matrix)\n",
    "    B[B <= 0] = 0\n",
    "    return B"
   ]
  },
  {
   "cell_type": "code",
   "execution_count": 51,
   "metadata": {},
   "outputs": [
    {
     "data": {
      "text/plain": [
       "array([[ 0.,  1.,  1.,  1.,  1.,  1.,  1.],\n",
       "       [ 1.,  0.,  1.,  1.,  1.,  1.,  1.],\n",
       "       [ 1.,  1.,  0.,  1.,  1.,  1.,  1.],\n",
       "       [ 1.,  1.,  1.,  0.,  1.,  1.,  1.],\n",
       "       [ 1.,  1.,  1.,  1.,  0.,  1.,  1.],\n",
       "       [ 1.,  1.,  1.,  1.,  1.,  0.,  1.],\n",
       "       [ 1.,  1.,  1.,  1.,  1.,  1.,  0.]])"
      ]
     },
     "execution_count": 51,
     "metadata": {},
     "output_type": "execute_result"
    }
   ],
   "source": [
    "replace_neg_vals(A)"
   ]
  },
  {
   "cell_type": "markdown",
   "metadata": {},
   "source": [
    "Problem 5."
   ]
  },
  {
   "cell_type": "code",
   "execution_count": 91,
   "metadata": {},
   "outputs": [
    {
     "data": {
      "text/plain": [
       "array([[ 0,  0,  0,  0,  3,  1,  0,  0],\n",
       "       [ 0,  0,  0,  1,  4,  0,  1,  0],\n",
       "       [ 0,  0,  0,  2,  5,  0,  0,  1],\n",
       "       [ 0,  1,  2,  0,  0,  0,  0,  0],\n",
       "       [ 3,  4,  5,  0,  0,  0,  0,  0],\n",
       "       [ 3,  0,  0,  0,  0, -2,  0,  0],\n",
       "       [ 3,  3,  0,  0,  0,  0, -2,  0],\n",
       "       [ 3,  3,  3,  0,  0,  0,  0, -2]], dtype=int64)"
      ]
     },
     "execution_count": 91,
     "metadata": {},
     "output_type": "execute_result"
    }
   ],
   "source": [
    "def make_big_mat():\n",
    "    '''\n",
    "    Block matriy has the size 8x8\n",
    "    shpes of the 0s are: 3x3, 2x2, 2x3 and 3x2\n",
    "    '''\n",
    "    \n",
    "    A = np.arange(6).reshape((2,3))\n",
    "    B = np.tril(np.full((3,3), 3))\n",
    "    C = np.eye(3) * (-2)\n",
    "    I = np.eye(3)\n",
    "    \n",
    "    row1 = np.hstack((np.zeros((3,3)), A.T, I))\n",
    "    row2 = np.hstack((A, np.zeros((2,2)), np.zeros((2,3))))\n",
    "    row3 = np.hstack((B, np.zeros((3, 2)), C))\n",
    "    big_mat = np.vstack((row1, row2, row3))\n",
    "    \n",
    "    return big_mat.astype(np.int64)\n",
    "\n",
    "make_big_mat()"
   ]
  },
  {
   "cell_type": "markdown",
   "metadata": {},
   "source": [
    "Problem 6."
   ]
  },
  {
   "cell_type": "code",
   "execution_count": 96,
   "metadata": {},
   "outputs": [],
   "source": [
    "def row_stoch(matrix):\n",
    "    scale = A.sum(axis=1).reshape((3,1))\n",
    "    stoch = A / scale\n",
    "    return stoch"
   ]
  },
  {
   "cell_type": "code",
   "execution_count": 113,
   "metadata": {},
   "outputs": [
    {
     "data": {
      "text/plain": [
       "True"
      ]
     },
     "execution_count": 113,
     "metadata": {},
     "output_type": "execute_result"
    }
   ],
   "source": [
    "A = np.arange(15).reshape((3, 5))\n",
    "A_stoch = row_stoch(A)\n",
    "(A_stoch.sum(axis=1).round(0).astype(np.int64) == 1).all()"
   ]
  },
  {
   "cell_type": "markdown",
   "metadata": {},
   "source": [
    "Problem 7."
   ]
  },
  {
   "cell_type": "code",
   "execution_count": 122,
   "metadata": {},
   "outputs": [],
   "source": [
    "# load the grid\n",
    "grid = np.load(r\"C:\\Users\\Max\\Documents\\BootCamp2017\\Computation\\Wk1_PyIntro\\grid.npy\")"
   ]
  },
  {
   "cell_type": "code",
   "execution_count": 150,
   "metadata": {},
   "outputs": [],
   "source": [
    "def get_max_axis(matrix):\n",
    "    # horizontal maximum \n",
    "    max_hor =  np.max(matrix[:,:-3] * matrix[:,1:-2] * matrix[:,2:-1] * matrix[:,3:])\n",
    "    # vertical maximum \n",
    "    max_ver = np.max(matrix[:-3,:] * matrix[1:-2,:] * matrix[2:-1,:] * matrix[3:,:])\n",
    "    # maximum right diagonal\n",
    "    max_rdiag = np.max(matrix[:-3,:-3] * matrix[1:-2,1:-2] * matrix[2:-1,2:-1] * matrix[3:,3:])\n",
    "    # maximum left diagonal \n",
    "    max_ldiag = np.max(matrix[3:,:-3] * matrix[2:-1, 1:-2] * matrix[1:-2,2:-1] * matrix[:-3,3:])\n",
    "    return max_hor, max_ver, max_rdiag, max_ldiag"
   ]
  },
  {
   "cell_type": "code",
   "execution_count": 151,
   "metadata": {},
   "outputs": [
    {
     "data": {
      "text/plain": [
       "(48477312, 51267216, 40304286, 70600674)"
      ]
     },
     "execution_count": 151,
     "metadata": {},
     "output_type": "execute_result"
    }
   ],
   "source": [
    "get_max_axis(grid)"
   ]
  }
 ],
 "metadata": {
  "kernelspec": {
   "display_name": "Python [default]",
   "language": "python",
   "name": "python3"
  },
  "language_info": {
   "codemirror_mode": {
    "name": "ipython",
    "version": 3
   },
   "file_extension": ".py",
   "mimetype": "text/x-python",
   "name": "python",
   "nbconvert_exporter": "python",
   "pygments_lexer": "ipython3",
   "version": "3.5.3"
  }
 },
 "nbformat": 4,
 "nbformat_minor": 2
}
