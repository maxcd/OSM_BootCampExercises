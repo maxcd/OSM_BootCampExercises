{
 "cells": [
  {
   "cell_type": "code",
   "execution_count": 2,
   "metadata": {
    "collapsed": true
   },
   "outputs": [],
   "source": [
    "from datetime import datetime\n",
    "import pandas as pd\n",
    "import numpy as np\n",
    "import matplotlib.pyplot as plt"
   ]
  },
  {
   "cell_type": "markdown",
   "metadata": {},
   "source": [
    "### Problem 1."
   ]
  },
  {
   "cell_type": "code",
   "execution_count": 3,
   "metadata": {},
   "outputs": [
    {
     "data": {
      "text/plain": [
       "VALUE    True\n",
       "dtype: bool"
      ]
     },
     "execution_count": 3,
     "metadata": {},
     "output_type": "execute_result"
    }
   ],
   "source": [
    "close = pd.read_csv(r'DJIA.csv', index_col=0)\n",
    "close.index = pd.to_datetime(close.index)\n",
    "close.fillna(np.nan, inplace=True)\n",
    "close[close.VALUE == '.'] = np.nan\n",
    "close.VALUE = pd.to_numeric(close.VALUE)\n",
    "pd.isnull(close).any()"
   ]
  },
  {
   "cell_type": "markdown",
   "metadata": {},
   "source": [
    "### Problem 2."
   ]
  },
  {
   "cell_type": "code",
   "execution_count": 4,
   "metadata": {
    "collapsed": true
   },
   "outputs": [],
   "source": [
    "pay = pd.read_csv(r'paychecks.csv', header=0)\n",
    "periods = len(pay)\n",
    "start = '3-12-2008'\n",
    "fri3 = pd.date_range(start=start, periods=periods, freq='WOM-3FRI')\n",
    "fri1 = pd.date_range(start=start, periods=periods, freq='WOM-1FRI')\n",
    "paydays = fri3.union(fri1)[:periods]\n",
    "pay.index = paydays"
   ]
  },
  {
   "cell_type": "markdown",
   "metadata": {},
   "source": [
    "### Problem 3. \n"
   ]
  },
  {
   "cell_type": "code",
   "execution_count": 5,
   "metadata": {},
   "outputs": [
    {
     "data": {
      "image/png": "[encoded data removed]",
      "text/plain": [
       "<matplotlib.figure.Figure at 0x1dd3954c9e8>"
      ]
     },
     "metadata": {},
     "output_type": "display_data"
    }
   ],
   "source": [
    "plt.figure()\n",
    "plt.plot(close.VALUE, '-')\n",
    "plt.title('Dow Jones Industrial Averages')\n",
    "plt.ylabel('points')\n",
    "plt.show()"
   ]
  },
  {
   "cell_type": "markdown",
   "metadata": {},
   "source": [
    "### Problem 4."
   ]
  },
  {
   "cell_type": "code",
   "execution_count": 6,
   "metadata": {
    "collapsed": true
   },
   "outputs": [],
   "source": [
    "fin = pd.read_csv(r'finances.csv')\n",
    "num = len(fin)"
   ]
  },
  {
   "cell_type": "code",
   "execution_count": 7,
   "metadata": {},
   "outputs": [
    {
     "data": {
      "text/html": [
       "<div>\n",
       "<style>\n",
       "    .dataframe thead tr:only-child th {\n",
       "        text-align: right;\n",
       "    }\n",
       "\n",
       "    .dataframe thead th {\n",
       "        text-align: left;\n",
       "    }\n",
       "\n",
       "    .dataframe tbody tr th {\n",
       "        vertical-align: top;\n",
       "    }\n",
       "</style>\n",
       "<table border=\"1\" class=\"dataframe\">\n",
       "  <thead>\n",
       "    <tr style=\"text-align: right;\">\n",
       "      <th></th>\n",
       "      <th>EARNINGS</th>\n",
       "      <th>EXPENSES</th>\n",
       "    </tr>\n",
       "  </thead>\n",
       "  <tbody>\n",
       "    <tr>\n",
       "      <th>1978-09</th>\n",
       "      <td>372572.16</td>\n",
       "      <td>122611.27</td>\n",
       "    </tr>\n",
       "    <tr>\n",
       "      <th>1978-12</th>\n",
       "      <td>419440.58</td>\n",
       "      <td>133176.18</td>\n",
       "    </tr>\n",
       "    <tr>\n",
       "      <th>1979-03</th>\n",
       "      <td>419766.49</td>\n",
       "      <td>154670.69</td>\n",
       "    </tr>\n",
       "    <tr>\n",
       "      <th>1979-06</th>\n",
       "      <td>361453.31</td>\n",
       "      <td>209360.42</td>\n",
       "    </tr>\n",
       "    <tr>\n",
       "      <th>1979-09</th>\n",
       "      <td>354463.33</td>\n",
       "      <td>174147.13</td>\n",
       "    </tr>\n",
       "  </tbody>\n",
       "</table>\n",
       "</div>"
      ],
      "text/plain": [
       "          EARNINGS   EXPENSES\n",
       "1978-09  372572.16  122611.27\n",
       "1978-12  419440.58  133176.18\n",
       "1979-03  419766.49  154670.69\n",
       "1979-06  361453.31  209360.42\n",
       "1979-09  354463.33  174147.13"
      ]
     },
     "execution_count": 7,
     "metadata": {},
     "output_type": "execute_result"
    }
   ],
   "source": [
    "quarters = pd.period_range(start='1978-09', periods=num, freq='3M')\n",
    "fin.index=quarters\n",
    "fin.head()"
   ]
  },
  {
   "cell_type": "markdown",
   "metadata": {},
   "source": [
    "### Proboem 5."
   ]
  },
  {
   "cell_type": "code",
   "execution_count": 8,
   "metadata": {
    "collapsed": true
   },
   "outputs": [],
   "source": [
    "traff = pd.read_csv(r'website_traffic.csv')"
   ]
  },
  {
   "cell_type": "code",
   "execution_count": 9,
   "metadata": {},
   "outputs": [
    {
     "data": {
      "text/html": [
       "<div>\n",
       "<style>\n",
       "    .dataframe thead tr:only-child th {\n",
       "        text-align: right;\n",
       "    }\n",
       "\n",
       "    .dataframe thead th {\n",
       "        text-align: left;\n",
       "    }\n",
       "\n",
       "    .dataframe tbody tr th {\n",
       "        vertical-align: top;\n",
       "    }\n",
       "</style>\n",
       "<table border=\"1\" class=\"dataframe\">\n",
       "  <thead>\n",
       "    <tr style=\"text-align: right;\">\n",
       "      <th></th>\n",
       "      <th>IP</th>\n",
       "      <th>ENTER</th>\n",
       "      <th>LEAVE</th>\n",
       "    </tr>\n",
       "  </thead>\n",
       "  <tbody>\n",
       "    <tr>\n",
       "      <th>0</th>\n",
       "      <td>187.162.243.198</td>\n",
       "      <td>2016-10-07 01:01:01</td>\n",
       "      <td>2016-10-07 01:04:57</td>\n",
       "    </tr>\n",
       "    <tr>\n",
       "      <th>1</th>\n",
       "      <td>119.200.107.183</td>\n",
       "      <td>2016-10-07 01:01:01</td>\n",
       "      <td>2016-10-07 01:03:47</td>\n",
       "    </tr>\n",
       "    <tr>\n",
       "      <th>2</th>\n",
       "      <td>170.158.132.203</td>\n",
       "      <td>2016-10-07 01:01:06</td>\n",
       "      <td>2016-10-07 01:03:09</td>\n",
       "    </tr>\n",
       "    <tr>\n",
       "      <th>3</th>\n",
       "      <td>24.169.81.199</td>\n",
       "      <td>2016-10-07 01:01:18</td>\n",
       "      <td>2016-10-07 01:09:36</td>\n",
       "    </tr>\n",
       "    <tr>\n",
       "      <th>4</th>\n",
       "      <td>186.129.160.43</td>\n",
       "      <td>2016-10-07 01:01:20</td>\n",
       "      <td>2016-10-07 01:08:32</td>\n",
       "    </tr>\n",
       "  </tbody>\n",
       "</table>\n",
       "</div>"
      ],
      "text/plain": [
       "                IP                ENTER                LEAVE\n",
       "0  187.162.243.198  2016-10-07 01:01:01  2016-10-07 01:04:57\n",
       "1  119.200.107.183  2016-10-07 01:01:01  2016-10-07 01:03:47\n",
       "2  170.158.132.203  2016-10-07 01:01:06  2016-10-07 01:03:09\n",
       "3    24.169.81.199  2016-10-07 01:01:18  2016-10-07 01:09:36\n",
       "4   186.129.160.43  2016-10-07 01:01:20  2016-10-07 01:08:32"
      ]
     },
     "execution_count": 9,
     "metadata": {},
     "output_type": "execute_result"
    }
   ],
   "source": [
    "traff.head()"
   ]
  },
  {
   "cell_type": "code",
   "execution_count": 10,
   "metadata": {},
   "outputs": [
    {
     "data": {
      "text/plain": [
       "Timedelta('0 days 00:05:04.731647')"
      ]
     },
     "execution_count": 10,
     "metadata": {},
     "output_type": "execute_result"
    }
   ],
   "source": [
    "traff.ENTER = pd.to_datetime(traff.ENTER)\n",
    "traff.LEAVE = pd.to_datetime(traff.LEAVE)\n",
    "dur = traff.LEAVE - traff.ENTER\n",
    "dur.mean()"
   ]
  },
  {
   "cell_type": "code",
   "execution_count": 11,
   "metadata": {
    "collapsed": true
   },
   "outputs": [],
   "source": [
    "traff['visit'] = np.ones(len(traff))\n",
    "traff.index= traff.ENTER\n",
    "visit = traff.visit.resample('H').sum()"
   ]
  },
  {
   "cell_type": "markdown",
   "metadata": {},
   "source": [
    "### Problem 6.\n"
   ]
  },
  {
   "cell_type": "code",
   "execution_count": 12,
   "metadata": {},
   "outputs": [
    {
     "data": {
      "text/plain": [
       "Timestamp('2008-10-13 00:00:00')"
      ]
     },
     "execution_count": 12,
     "metadata": {},
     "output_type": "execute_result"
    }
   ],
   "source": [
    "r = close - close.shift(1)\n",
    "high = np.where(r == r.max())[0][0]\n",
    "close.index[high]"
   ]
  },
  {
   "cell_type": "code",
   "execution_count": 13,
   "metadata": {},
   "outputs": [
    {
     "data": {
      "text/plain": [
       "Timestamp('2008-09-29 00:00:00')"
      ]
     },
     "execution_count": 13,
     "metadata": {},
     "output_type": "execute_result"
    }
   ],
   "source": [
    "low = np.where(r == r.min())[0][0]\n",
    "close.index[low]"
   ]
  },
  {
   "cell_type": "markdown",
   "metadata": {},
   "source": [
    "Since you did not specify if you want the largest monthly gain on average or the largest gain in terms of difference of the first annd the last price of the months I just calculate highest gain and loss with respect to on average monthly prices."
   ]
  },
  {
   "cell_type": "code",
   "execution_count": 14,
   "metadata": {},
   "outputs": [
    {
     "name": "stdout",
     "output_type": "stream",
     "text": [
      "2007-03-06 00:00:00 2006-11-01 00:00:00\n"
     ]
    }
   ],
   "source": [
    "monthly_p = close.resample('M').mean()\n",
    "monthly_r = monthly_p - monthly_p.shift(1)\n",
    "high_m = np.where(monthly_r == monthly_r.max())[0][0]\n",
    "low_m = np.where(monthly_r == monthly_r.min())[0][0]\n",
    "print(close.index[high_m], close.index[low_m])"
   ]
  },
  {
   "cell_type": "markdown",
   "metadata": {},
   "source": [
    "### Problem 7."
   ]
  },
  {
   "cell_type": "code",
   "execution_count": 15,
   "metadata": {
    "collapsed": true
   },
   "outputs": [],
   "source": [
    "p30 = close.rolling(window=30, min_periods=20).mean()\n",
    "p365 = close.rolling(window=365, min_periods=300).mean()\n",
    "ew30 = close.VALUE.ewm(com=30).mean()\n",
    "ew356 = close.VALUE.ewm(com=365).mean()"
   ]
  },
  {
   "cell_type": "code",
   "execution_count": 17,
   "metadata": {},
   "outputs": [
    {
     "data": {
      "image/png": "[encoded data removed]",
      "text/plain": [
       "<matplotlib.figure.Figure at 0x1dd3aab66a0>"
      ]
     },
     "metadata": {},
     "output_type": "display_data"
    }
   ],
   "source": [
    "plt.figure(figsize=(12,4))\n",
    "plt.plot(close.VALUE, '-', alpha=0.3, label='original')\n",
    "plt.plot(p30, 'r-', alpha=0.8, lw=0.8, label='Rolling MA')\n",
    "plt.plot(ew30, 'g-', alpha=0.8, lw=0.8, label='EWMA')\n",
    "plt.title('Dow Jones Industrial Averages')\n",
    "plt.ylabel('points')\n",
    "plt.legend(\n",
    ")\n",
    "plt.plot(ew356, 'g-', alpha=0.8, lw=0.8)\n",
    "plt.plot(p365, 'r-',alpha=0.8, lw=0.8)\n",
    "plt.show()"
   ]
  },
  {
   "cell_type": "code",
   "execution_count": null,
   "metadata": {
    "collapsed": true
   },
   "outputs": [],
   "source": []
  }
 ],
 "metadata": {
  "kernelspec": {
   "display_name": "Python [default]",
   "language": "python",
   "name": "python3"
  },
  "language_info": {
   "codemirror_mode": {
    "name": "ipython",
    "version": 3
   },
   "file_extension": ".py",
   "mimetype": "text/x-python",
   "name": "python",
   "nbconvert_exporter": "python",
   "pygments_lexer": "ipython3",
   "version": "3.5.3"
  }
 },
 "nbformat": 4,
 "nbformat_minor": 2
}
