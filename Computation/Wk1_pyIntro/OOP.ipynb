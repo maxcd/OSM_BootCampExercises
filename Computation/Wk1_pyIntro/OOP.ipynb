{
 "cells": [
  {
   "cell_type": "markdown",
   "metadata": {},
   "source": [
    "### Problem 1."
   ]
  },
  {
   "cell_type": "code",
   "execution_count": 1,
   "metadata": {},
   "outputs": [],
   "source": [
    "class Backpack(object):\n",
    "    \"\"\"\n",
    "    A Backpack object class. Has a name and a list of contents.\n",
    "    Attributes:\n",
    "    name (str): the name of the backpack's owner.\n",
    "    contents (list): the contents of the backpack.\n",
    "    \"\"\"\n",
    "    def __init__(self, name, color, max_size):\n",
    "        \"\"\"Set the name and initialize an empty contents list.\n",
    "        Inputs:\n",
    "        name (str): the name of the backpack's owner.\n",
    "        Returns:\n",
    "        A Backpack object with no contents.\n",
    "        \"\"\"\n",
    "        self.name = name\n",
    "        self.contents = []\n",
    "        self.color = color\n",
    "        self.max_size = max_size\n",
    "        \n",
    "        \n",
    "    def put(self, item):\n",
    "        \"\"\"Add 'item' to the backpack's list of contents.\"\"\"\n",
    "        if (len(self.contents) + 1) <= self.max_size:\n",
    "            self.contents.append(item)\n",
    "        else:\n",
    "            print('No Room!')\n",
    "            \n",
    "    def take(self, item):\n",
    "        \"\"\"Remove 'item' from the backpack's list of contents.\"\"\"\n",
    "        self.contents.remove(item)\n",
    "    \n",
    "    def dump(self):\n",
    "        self.contents = []"
   ]
  },
  {
   "cell_type": "code",
   "execution_count": 2,
   "metadata": {},
   "outputs": [],
   "source": [
    "a = Backpack(\"daypack\", \"brown\", max_size=3)"
   ]
  },
  {
   "cell_type": "code",
   "execution_count": 3,
   "metadata": {},
   "outputs": [
    {
     "data": {
      "text/plain": [
       "'brown'"
      ]
     },
     "execution_count": 3,
     "metadata": {},
     "output_type": "execute_result"
    }
   ],
   "source": [
    "a.color"
   ]
  },
  {
   "cell_type": "code",
   "execution_count": 4,
   "metadata": {},
   "outputs": [],
   "source": [
    "a.put('pencil')"
   ]
  },
  {
   "cell_type": "code",
   "execution_count": 5,
   "metadata": {},
   "outputs": [],
   "source": [
    "a.put('can')\n",
    "a.put('glasses')"
   ]
  },
  {
   "cell_type": "code",
   "execution_count": 6,
   "metadata": {},
   "outputs": [
    {
     "data": {
      "text/plain": [
       "['pencil', 'can', 'glasses']"
      ]
     },
     "execution_count": 6,
     "metadata": {},
     "output_type": "execute_result"
    }
   ],
   "source": [
    "a.contents"
   ]
  },
  {
   "cell_type": "code",
   "execution_count": 7,
   "metadata": {},
   "outputs": [
    {
     "name": "stdout",
     "output_type": "stream",
     "text": [
      "No Room!\n"
     ]
    }
   ],
   "source": [
    "a.put('water')"
   ]
  },
  {
   "cell_type": "code",
   "execution_count": 8,
   "metadata": {},
   "outputs": [
    {
     "data": {
      "text/plain": [
       "[]"
      ]
     },
     "execution_count": 8,
     "metadata": {},
     "output_type": "execute_result"
    }
   ],
   "source": [
    "a.dump()\n",
    "a.contents"
   ]
  },
  {
   "cell_type": "markdown",
   "metadata": {},
   "source": [
    "### Problem 2."
   ]
  },
  {
   "cell_type": "code",
   "execution_count": 9,
   "metadata": {},
   "outputs": [],
   "source": [
    "class Jetpack(Backpack):\n",
    "    \n",
    "    def __init__(self, name, color, max_size=2):\n",
    "        Backpack.__init__(self, name, color, max_size)\n",
    "        self.fuel = 10\n",
    "    \n",
    "    def fly(self, fuel_amount):\n",
    "        if self.fuel >= fuel_amount:\n",
    "            self.fuel -= fuel_amount\n",
    "        else:\n",
    "            print('Not enough fuel!')\n",
    "    \n",
    "    def dump(self):\n",
    "        self.fuel = 0\n",
    "        self.contents = []"
   ]
  },
  {
   "cell_type": "code",
   "execution_count": 10,
   "metadata": {},
   "outputs": [],
   "source": [
    "B = Jetpack('my_jet', 'red')"
   ]
  },
  {
   "cell_type": "code",
   "execution_count": 11,
   "metadata": {},
   "outputs": [
    {
     "data": {
      "text/plain": [
       "5"
      ]
     },
     "execution_count": 11,
     "metadata": {},
     "output_type": "execute_result"
    }
   ],
   "source": [
    "B.fly(5)\n",
    "B.fuel"
   ]
  },
  {
   "cell_type": "code",
   "execution_count": 13,
   "metadata": {},
   "outputs": [
    {
     "data": {
      "text/plain": [
       "[]"
      ]
     },
     "execution_count": 13,
     "metadata": {},
     "output_type": "execute_result"
    }
   ],
   "source": [
    "B.dump()\n",
    "B.contents"
   ]
  },
  {
   "cell_type": "markdown",
   "metadata": {},
   "source": [
    "### Problem 3."
   ]
  },
  {
   "cell_type": "code",
   "execution_count": 14,
   "metadata": {
    "collapsed": true
   },
   "outputs": [],
   "source": [
    "class Backpack(object):\n",
    "    \"\"\"\n",
    "    A Backpack object class. Has a name and a list of contents.\n",
    "    Attributes:\n",
    "    name (str): the name of the backpack's owner.\n",
    "    contents (list): the contents of the backpack.\n",
    "    \"\"\"\n",
    "    def __init__(self, name, color, max_size):\n",
    "        \"\"\"Set the name and initialize an empty contents list.\n",
    "        Inputs:\n",
    "        name (str): the name of the backpack's owner.\n",
    "        Returns:\n",
    "        A Backpack object with no contents.\n",
    "        \"\"\"\n",
    "        self.name = name\n",
    "        self.contents = []\n",
    "        self.color = color\n",
    "        self.max_size = max_size\n",
    "        \n",
    "        \n",
    "    def put(self, item):\n",
    "        \"\"\"Add 'item' to the backpack's list of contents.\"\"\"\n",
    "        if (len(self.contents) + 1) <= self.max_size:\n",
    "            self.contents.append(item)\n",
    "        else:\n",
    "            print('No Room!')\n",
    "            \n",
    "    def take(self, item):\n",
    "        \"\"\"Remove 'item' from the backpack's list of contents.\"\"\"\n",
    "        self.contents.remove(item)\n",
    "    \n",
    "    def dump(self):\n",
    "        self.contents = []\n",
    "    \n",
    "    def __eq__(self, other):\n",
    "        if (self.name == other.name) & (self.color == other.color) & (len(self.contents) == len(other.contents)):\n",
    "            return True"
   ]
  },
  {
   "cell_type": "code",
   "execution_count": 16,
   "metadata": {},
   "outputs": [
    {
     "data": {
      "text/plain": [
       "True"
      ]
     },
     "execution_count": 16,
     "metadata": {},
     "output_type": "execute_result"
    }
   ],
   "source": [
    "pack_1 = Backpack(\"daypack\", \"brown\", max_size=3)\n",
    "pack_2 = Backpack(\"daypack\", \"brown\", max_size=3)\n",
    "\n",
    "pack_1.put('can')\n",
    "pack_2.put('glasses')\n",
    "\n",
    "pack_1 == pack_2 "
   ]
  },
  {
   "cell_type": "code",
   "execution_count": 56,
   "metadata": {},
   "outputs": [],
   "source": [
    "class Backpack(object):\n",
    "    \"\"\"\n",
    "    A Backpack object class. Has a name and a list of contents.\n",
    "    Attributes:\n",
    "    name (str): the name of the backpack's owner.\n",
    "    contents (list): the contents of the backpack.\n",
    "    \"\"\"\n",
    "    def __init__(self, name, color, max_size):\n",
    "        \"\"\"Set the name and initialize an empty contents list.\n",
    "        Inputs:\n",
    "        name (str): the name of the backpack's owner.\n",
    "        Returns:\n",
    "        A Backpack object with no contents.\n",
    "        \"\"\"\n",
    "        self.name = name\n",
    "        self.contents = []\n",
    "        self.color = color\n",
    "        self.max_size = max_size\n",
    "        \n",
    "        \n",
    "    def put(self, item):\n",
    "        \"\"\"Add 'item' to the backpack's list of contents.\"\"\"\n",
    "        if (len(self.contents) + 1) <= self.max_size:\n",
    "            self.contents.append(item)\n",
    "        else:\n",
    "            print('No Room!')\n",
    "            \n",
    "    def take(self, item):\n",
    "        \"\"\"Remove 'item' from the backpack's list of contents.\"\"\"\n",
    "        self.contents.remove(item)\n",
    "    \n",
    "    def dump(self):\n",
    "        self.contents = []\n",
    "    \n",
    "    def __eq__(self, other):\n",
    "        if (self.name == other.name) & (self.color == other.color) & (len(self.contents) == len(other.contents)):\n",
    "            return True\n",
    "    def __str__(self):\n",
    "        return '''Owner:\\t\\t{}\n",
    "        \\nColor:\\t\\t{} \n",
    "        \\nSize:\\t\\t{}\n",
    "        \\nMax Size:\\t{}\n",
    "        \\nContents:\\t{}'''.format(self.name,self.color,len(self.contents),\n",
    "                                  self.max_size, self.contents)"
   ]
  },
  {
   "cell_type": "code",
   "execution_count": 59,
   "metadata": {},
   "outputs": [
    {
     "name": "stdout",
     "output_type": "stream",
     "text": [
      "Owner:\t\tMax\n",
      "        \n",
      "Color:\t\tbrown \n",
      "        \n",
      "Size:\t\t1\n",
      "        \n",
      "Max Size:\t3\n",
      "        \n",
      "Contents:\t['junk']\n"
     ]
    }
   ],
   "source": [
    "pack_2 = Backpack(\"Max\", \"brown\", max_size=3)\n",
    "pack_2.put('junk')\n",
    "print(pack_2)"
   ]
  },
  {
   "cell_type": "markdown",
   "metadata": {},
   "source": [
    "### Problem 4."
   ]
  },
  {
   "cell_type": "code",
   "execution_count": 111,
   "metadata": {},
   "outputs": [],
   "source": [
    "import math\n",
    "\n",
    "class ComplexNumber(object):\n",
    "    def __init__(self, real=0, imag=0):\n",
    "        self.real = real\n",
    "        self.imag = imag\n",
    "    \n",
    "    def __abs__(self):\n",
    "        return math.sqrt(self.real ** 2 + self.imag ** 2)\n",
    "    \n",
    "    def __lt__(self, other):\n",
    "        return self.__abs__() < other.__abs__()\n",
    "    \n",
    "    def __gt__(self, other):\n",
    "        return self.__abs__() > other.__abs__()\n",
    "    \n",
    "    def __eq__(self, other):\n",
    "        return (self.real == other.real) and (self.imag == other.imag)\n",
    "    \n",
    "    def __ne__(self, other):\n",
    "        return not (self.real == other.real and self.imag == other.imag).all()\n",
    "    \n",
    "    def __add__(self, other):\n",
    "        real = self.real + other.real\n",
    "        imag = self.imag + other.imag\n",
    "        return ComplexNumber(real, imag)\n",
    "\n",
    "    def __sub__(self, other):\n",
    "        real = self.real - other.real\n",
    "        imag = self.imag - other.imag\n",
    "        return ComplexNumber(real, imag)\n",
    "\n",
    "    def __mul__(self, other):\n",
    "        real = self.real*other.real - self.imag*other.imag\n",
    "        imag = self.imag*other.real + other.imag*self.real\n",
    "        return ComplexNumber(real, imag)\n",
    "        pass\n",
    "    \n",
    "    def conjugate(self):\n",
    "        return ComplexNumber(self.real, -self.imag)\n",
    "    \n",
    "    def __truediv__(self, other):\n",
    "        if other.real == 0 and other.imag == 0\n",
    "        top = self*other.conjugate()\n",
    "        bottom = (other*other.conjugate()).real\n",
    "         \n",
    "        result = ComplexNumber(top.real / bottom, top.imag/bottom)\n",
    "        return result"
   ]
  },
  {
   "cell_type": "code",
   "execution_count": 93,
   "metadata": {},
   "outputs": [],
   "source": [
    "number_1 = ComplexNumber(1, 2)\n",
    "number_2 = ComplexNumber(5, 5)"
   ]
  },
  {
   "cell_type": "code",
   "execution_count": 94,
   "metadata": {},
   "outputs": [
    {
     "name": "stdout",
     "output_type": "stream",
     "text": [
      "2.23606797749979\n"
     ]
    }
   ],
   "source": [
    "print(number_1.__abs__())"
   ]
  },
  {
   "cell_type": "code",
   "execution_count": 95,
   "metadata": {},
   "outputs": [
    {
     "data": {
      "text/plain": [
       "True"
      ]
     },
     "execution_count": 95,
     "metadata": {},
     "output_type": "execute_result"
    }
   ],
   "source": [
    "number_1 < number_2"
   ]
  },
  {
   "cell_type": "code",
   "execution_count": 96,
   "metadata": {},
   "outputs": [
    {
     "data": {
      "text/plain": [
       "False"
      ]
     },
     "execution_count": 96,
     "metadata": {},
     "output_type": "execute_result"
    }
   ],
   "source": [
    "number_1 > number_2"
   ]
  },
  {
   "cell_type": "code",
   "execution_count": 97,
   "metadata": {},
   "outputs": [
    {
     "data": {
      "text/plain": [
       "False"
      ]
     },
     "execution_count": 97,
     "metadata": {},
     "output_type": "execute_result"
    }
   ],
   "source": [
    "number_1 == number_2"
   ]
  },
  {
   "cell_type": "code",
   "execution_count": 98,
   "metadata": {},
   "outputs": [
    {
     "data": {
      "text/plain": [
       "True"
      ]
     },
     "execution_count": 98,
     "metadata": {},
     "output_type": "execute_result"
    }
   ],
   "source": [
    "number_3 = ComplexNumber(5, 5)\n",
    "number_2 == number_3"
   ]
  },
  {
   "cell_type": "code",
   "execution_count": 114,
   "metadata": {
    "scrolled": true
   },
   "outputs": [
    {
     "data": {
      "text/plain": [
       "-0.5882352941176471"
      ]
     },
     "execution_count": 114,
     "metadata": {},
     "output_type": "execute_result"
    }
   ],
   "source": [
    "number_4 = ComplexNumber(2, 3)\n",
    "number_5 = ComplexNumber(1, -4)\n",
    "number_6 = number_4 / number_5\n",
    "number_6.real"
   ]
  }
 ],
 "metadata": {
  "kernelspec": {
   "display_name": "Python [default]",
   "language": "python",
   "name": "python3"
  },
  "language_info": {
   "codemirror_mode": {
    "name": "ipython",
    "version": 3
   },
   "file_extension": ".py",
   "mimetype": "text/x-python",
   "name": "python",
   "nbconvert_exporter": "python",
   "pygments_lexer": "ipython3",
   "version": "3.5.3"
  }
 },
 "nbformat": 4,
 "nbformat_minor": 2
}
