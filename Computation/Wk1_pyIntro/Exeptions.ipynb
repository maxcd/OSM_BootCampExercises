{
 "cells": [
  {
   "cell_type": "markdown",
   "metadata": {},
   "source": [
    "### Probem 1."
   ]
  },
  {
   "cell_type": "markdown",
   "metadata": {},
   "source": [
    "This \"magic\" works, because the difference between any such number and its reversed counter part is always equal to 198."
   ]
  },
  {
   "cell_type": "code",
   "execution_count": 2,
   "metadata": {},
   "outputs": [
    {
     "name": "stdout",
     "output_type": "stream",
     "text": [
      "Enter a 3-digit number where the first and last digits differ by 2 or more: 234\n",
      "Enter the reverse of the first number, obtained by reading it backwards: 432\n",
      "Enter the positive difference of these numbers: 514\n"
     ]
    },
    {
     "ename": "ValueError",
     "evalue": "Entered number is not the absolute difference",
     "output_type": "error",
     "traceback": [
      "\u001b[1;31m---------------------------------------------------------------------------\u001b[0m",
      "\u001b[1;31mValueError\u001b[0m                                Traceback (most recent call last)",
      "\u001b[1;32m<ipython-input-2-12e855691c22>\u001b[0m in \u001b[0;36m<module>\u001b[1;34m()\u001b[0m\n\u001b[0;32m     32\u001b[0m \u001b[1;33m\u001b[0m\u001b[0m\n\u001b[0;32m     33\u001b[0m \u001b[1;32mif\u001b[0m \u001b[0m__name__\u001b[0m \u001b[1;33m==\u001b[0m \u001b[1;34m\"__main__\"\u001b[0m\u001b[1;33m:\u001b[0m\u001b[1;33m\u001b[0m\u001b[0m\n\u001b[1;32m---> 34\u001b[1;33m     \u001b[0marithmagic\u001b[0m\u001b[1;33m(\u001b[0m\u001b[1;33m)\u001b[0m\u001b[1;33m\u001b[0m\u001b[0m\n\u001b[0m",
      "\u001b[1;32m<ipython-input-2-12e855691c22>\u001b[0m in \u001b[0;36marithmagic\u001b[1;34m()\u001b[0m\n\u001b[0;32m     23\u001b[0m     \u001b[0mdiff\u001b[0m \u001b[1;33m=\u001b[0m \u001b[0mabs\u001b[0m\u001b[1;33m(\u001b[0m\u001b[0mint\u001b[0m\u001b[1;33m(\u001b[0m\u001b[0mstep_2\u001b[0m\u001b[1;33m)\u001b[0m \u001b[1;33m-\u001b[0m \u001b[0mint\u001b[0m\u001b[1;33m(\u001b[0m\u001b[0mstep_1\u001b[0m\u001b[1;33m)\u001b[0m\u001b[1;33m)\u001b[0m\u001b[1;33m\u001b[0m\u001b[0m\n\u001b[0;32m     24\u001b[0m     \u001b[1;32mif\u001b[0m \u001b[0mint\u001b[0m\u001b[1;33m(\u001b[0m\u001b[0mstep_3\u001b[0m\u001b[1;33m)\u001b[0m \u001b[1;33m!=\u001b[0m \u001b[0mdiff\u001b[0m\u001b[1;33m:\u001b[0m\u001b[1;33m\u001b[0m\u001b[0m\n\u001b[1;32m---> 25\u001b[1;33m         \u001b[1;32mraise\u001b[0m \u001b[0mValueError\u001b[0m\u001b[1;33m(\u001b[0m\u001b[1;34m'Entered number is not the absolute difference'\u001b[0m\u001b[1;33m)\u001b[0m\u001b[1;33m\u001b[0m\u001b[0m\n\u001b[0m\u001b[0;32m     26\u001b[0m \u001b[1;33m\u001b[0m\u001b[0m\n\u001b[0;32m     27\u001b[0m     \u001b[0mstep_4\u001b[0m \u001b[1;33m=\u001b[0m \u001b[0minput\u001b[0m\u001b[1;33m(\u001b[0m\u001b[1;34m\"Enter the reverse of the previous result: \"\u001b[0m\u001b[1;33m)\u001b[0m\u001b[1;33m\u001b[0m\u001b[0m\n",
      "\u001b[1;31mValueError\u001b[0m: Entered number is not the absolute difference"
     ]
    }
   ],
   "source": [
    "'''\n",
    "This works because the difference of any such number entered in step_1 and the reverse\n",
    "has the same absolute value 198.\n",
    "'''\n",
    "def arithmagic():\n",
    "    step_1 = input(\"Enter a 3-digit number where the first and last \"\n",
    "                   \"digits differ by 2 or more: \")\n",
    "    first, last = int(list(step_1)[0]), int(list(step_1)[-1])\n",
    "\n",
    "    if (abs(first - last)) < 2:\n",
    "        raise ValueError('Difference between leading and last digit must be'\n",
    "                         'at least 2')\n",
    "    elif len(list(step_1)) != 3:\n",
    "        raise ValueError('The number ou entered does not hava not three digits ')\n",
    "\n",
    "    step_2 = input(\"Enter the reverse of the first number, obtained \"\n",
    "                   \"by reading it backwards: \")\n",
    "    if not list(step_2)[::-1] == list(step_1):\n",
    "        raise ValueError('Entered number is not the reversed of the first number')\n",
    "\n",
    "    step_3 =input(\"Enter the positive difference of these numbers: \")\n",
    "\n",
    "    diff = abs(int(step_2) - int(step_1))\n",
    "    if int(step_3) != diff:\n",
    "        raise ValueError('Entered number is not the absolute difference')\n",
    "\n",
    "    step_4 = input(\"Enter the reverse of the previous result: \")\n",
    "    if not list(step_4)[::-1] == list(step_3):\n",
    "        raise ValueError('Number you entered is not the reverse of the previous')\n",
    "\n",
    "    print(str(step_3) + \" + \" + str(step_4) + \" = 1089 (ta-da!)\")\n",
    "\n",
    "if __name__ == \"__main__\":\n",
    "    arithmagic()\n"
   ]
  },
  {
   "cell_type": "markdown",
   "metadata": {},
   "source": [
    "### Problem 2."
   ]
  },
  {
   "cell_type": "code",
   "execution_count": 10,
   "metadata": {
    "collapsed": true
   },
   "outputs": [],
   "source": [
    "def random_walk(max_iters=1e12):\n",
    "    walk = 0\n",
    "    direction = [1, -1]\n",
    "    for i in range(int(max_iters)):\n",
    "        try:\n",
    "            walk += choice(direction)\n",
    "        except KeyboardInterrupt as k:\n",
    "            print('process interrupted at iteration {}'.format(i))\n",
    "        else:\n",
    "            print('process completed')\n",
    "        finally:\n",
    "            return walk"
   ]
  },
  {
   "cell_type": "code",
   "execution_count": 11,
   "metadata": {},
   "outputs": [
    {
     "data": {
      "text/plain": [
       "0"
      ]
     },
     "execution_count": 11,
     "metadata": {},
     "output_type": "execute_result"
    }
   ],
   "source": [
    "random_walk()"
   ]
  },
  {
   "cell_type": "code",
   "execution_count": null,
   "metadata": {
    "collapsed": true
   },
   "outputs": [],
   "source": []
  }
 ],
 "metadata": {
  "kernelspec": {
   "display_name": "Python [default]",
   "language": "python",
   "name": "python3"
  },
  "language_info": {
   "codemirror_mode": {
    "name": "ipython",
    "version": 3
   },
   "file_extension": ".py",
   "mimetype": "text/x-python",
   "name": "python",
   "nbconvert_exporter": "python",
   "pygments_lexer": "ipython3",
   "version": "3.5.3"
  }
 },
 "nbformat": 4,
 "nbformat_minor": 2
}
