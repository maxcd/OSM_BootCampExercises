{
 "cells": [
  {
   "cell_type": "markdown",
   "metadata": {},
   "source": [
    "### Problem 1."
   ]
  },
  {
   "cell_type": "markdown",
   "metadata": {},
   "source": [
    "This works because the difference of any such number entered in step_1 and the reverse\n",
    "has the same absolute value 198."
   ]
  },
  {
   "cell_type": "code",
   "execution_count": 1,
   "metadata": {
    "collapsed": true
   },
   "outputs": [],
   "source": [
    "def arithmagic():\n",
    "    step_1 = input(\"Enter a 3-digit number where the first and last \"\n",
    "                   \"digits differ by 2 or more: \")\n",
    "    first, last = int(list(step_1)[0]), int(list(step_1)[-1])\n",
    "\n",
    "    if (abs(first - last)) < 2:\n",
    "        raise ValueError('Difference between leading and last digit must be'\n",
    "                         'at least 2')\n",
    "    elif len(list(step_1)) != 3:\n",
    "        raise ValueError('The number ou entered does not hava not three digits ')\n",
    "\n",
    "    step_2 = input(\"Enter the reverse of the first number, obtained \"\n",
    "                   \"by reading it backwards: \")\n",
    "    if not list(step_2)[::-1] == list(step_1):\n",
    "        raise ValueError('Entered number is not the reversed of the first number')\n",
    "\n",
    "    step_3 =input(\"Enter the positive difference of these numbers: \")\n",
    "\n",
    "    diff = abs(int(step_2) - int(step_1))\n",
    "    if int(step_3) != diff:\n",
    "        raise ValueError('Entered number is not the absolute difference')\n",
    "\n",
    "    step_4 = input(\"Enter the reverse of the previous result: \")\n",
    "    if not list(step_4)[::-1] == list(step_3):\n",
    "        raise ValueError('Number you entered is not the reverse of the previous')\n",
    "\n",
    "    print(str(step_3) + \" + \" + str(step_4) + \" = 1089 (ta-da!)\")\n"
   ]
  },
  {
   "cell_type": "code",
   "execution_count": 2,
   "metadata": {},
   "outputs": [
    {
     "name": "stdout",
     "output_type": "stream",
     "text": [
      "Enter a 3-digit number where the first and last digits differ by 2 or more: 123\n",
      "Enter the reverse of the first number, obtained by reading it backwards: 123\n"
     ]
    },
    {
     "ename": "ValueError",
     "evalue": "Entered number is not the reversed of the first number",
     "output_type": "error",
     "traceback": [
      "\u001b[1;31m-------------------------------------------------------------------\u001b[0m",
      "\u001b[1;31mValueError\u001b[0m                        Traceback (most recent call last)",
      "\u001b[1;32m<ipython-input-2-6b088a2bc642>\u001b[0m in \u001b[0;36m<module>\u001b[1;34m()\u001b[0m\n\u001b[1;32m----> 1\u001b[1;33m \u001b[0marithmagic\u001b[0m\u001b[1;33m(\u001b[0m\u001b[1;33m)\u001b[0m\u001b[1;33m\u001b[0m\u001b[0m\n\u001b[0m",
      "\u001b[1;32m<ipython-input-1-b3041fb38090>\u001b[0m in \u001b[0;36marithmagic\u001b[1;34m()\u001b[0m\n\u001b[0;32m     13\u001b[0m                    \"by reading it backwards: \")\n\u001b[0;32m     14\u001b[0m     \u001b[1;32mif\u001b[0m \u001b[1;32mnot\u001b[0m \u001b[0mlist\u001b[0m\u001b[1;33m(\u001b[0m\u001b[0mstep_2\u001b[0m\u001b[1;33m)\u001b[0m\u001b[1;33m[\u001b[0m\u001b[1;33m:\u001b[0m\u001b[1;33m:\u001b[0m\u001b[1;33m-\u001b[0m\u001b[1;36m1\u001b[0m\u001b[1;33m]\u001b[0m \u001b[1;33m==\u001b[0m \u001b[0mlist\u001b[0m\u001b[1;33m(\u001b[0m\u001b[0mstep_1\u001b[0m\u001b[1;33m)\u001b[0m\u001b[1;33m:\u001b[0m\u001b[1;33m\u001b[0m\u001b[0m\n\u001b[1;32m---> 15\u001b[1;33m         \u001b[1;32mraise\u001b[0m \u001b[0mValueError\u001b[0m\u001b[1;33m(\u001b[0m\u001b[1;34m'Entered number is not the reversed of the first number'\u001b[0m\u001b[1;33m)\u001b[0m\u001b[1;33m\u001b[0m\u001b[0m\n\u001b[0m\u001b[0;32m     16\u001b[0m \u001b[1;33m\u001b[0m\u001b[0m\n\u001b[0;32m     17\u001b[0m     \u001b[0mstep_3\u001b[0m \u001b[1;33m=\u001b[0m\u001b[0minput\u001b[0m\u001b[1;33m(\u001b[0m\u001b[1;34m\"Enter the positive difference of these numbers: \"\u001b[0m\u001b[1;33m)\u001b[0m\u001b[1;33m\u001b[0m\u001b[0m\n",
      "\u001b[1;31mValueError\u001b[0m: Entered number is not the reversed of the first number"
     ]
    }
   ],
   "source": [
    "arithmagic()"
   ]
  },
  {
   "cell_type": "markdown",
   "metadata": {},
   "source": [
    "### Problem 2."
   ]
  },
  {
   "cell_type": "code",
   "execution_count": 3,
   "metadata": {
    "collapsed": true
   },
   "outputs": [],
   "source": [
    "from random import choice\n",
    "\n",
    "def random_walk(max_iters=1e12):\n",
    "    walk = 0\n",
    "    direction = [1, -1]\n",
    "    for i in range(int(max_iters)):\n",
    "        try:\n",
    "            walk += choice(direction)\n",
    "        except KeyboardInterrupt as k:\n",
    "            print('process interrupted at iteration {}'.format(i))\n",
    "        else:\n",
    "            print('process completed')\n",
    "        finally:\n",
    "            return walk"
   ]
  },
  {
   "cell_type": "markdown",
   "metadata": {},
   "source": [
    "### Problem 3."
   ]
  },
  {
   "cell_type": "code",
   "execution_count": 4,
   "metadata": {
    "collapsed": true
   },
   "outputs": [],
   "source": [
    "with open(\"out.txt\", 'w') as outfile: \n",
    "    for i in range(10):\n",
    "        outfile.write(str(i**2)+' ')"
   ]
  },
  {
   "cell_type": "code",
   "execution_count": 5,
   "metadata": {
    "collapsed": true
   },
   "outputs": [],
   "source": [
    "class ContentFilter(object):\n",
    "    \n",
    "    def __init__(self, file_name):\n",
    "        \n",
    "        if not isinstance(file_name, str):\n",
    "            raise TypeError('{} is not a string')\n",
    "        else:\n",
    "            self.file_name = file_name\n",
    "            with open(file_name, \"r\") as f:\n",
    "                self.content = f.read()\n",
    "\n",
    "    def uniform(self, case=\"upper\", mode = \"w\"):\n",
    "        if not mode == 'w' or mode == 'a':\n",
    "            raise ValueError('mode should be either w or a')\n",
    "        else:\n",
    "            if case == \"upper\":\n",
    "                text = self.content.upper\n",
    "            elif case == \"lower\":\n",
    "                text = self.content.lower()\n",
    "            with open(outfile, mode) as out:\n",
    "                out.write(text)\n",
    "                \n",
    "    def reverse(self, outfile, mode = \"w\", unit=\"line\"):\n",
    "\n",
    "        if not mode == 'w' or mode == 'a':\n",
    "            raise ValueError('mode should be either w or a')\n",
    "        else:\n",
    "            if unit == \"line\":\n",
    "                lines = self.content.split(\"\\n\")\n",
    "                lines = lines[::-1]\n",
    "                with open(outfile, mode) as out:\n",
    "                    for line in lines:\n",
    "                        out.write(line + \"\\n\")\n",
    "            \n",
    "            elif unit == 'word':\n",
    "                words = self.content.split()\n",
    "                words = words[::-1]\n",
    "                with open(outfile, mode) as out:\n",
    "                    for word in words:\n",
    "                        out.write(word+\"\\n\")\n",
    "    \n",
    "    def transpose(self, outfile, mode=\"w\"):\n",
    "        if not mode == 'w' or mode == 'a':\n",
    "            raise ValueError('mode should be either w or a')\n",
    "        else:\n",
    "            lines = self.content.split(\"\\n\")\n",
    "            line_len = len(lines)\n",
    "            with open(outfile, mode) as out:\n",
    "                for word in range(line_len):\n",
    "                    for line in lines:\n",
    "                        entries  = line.split()\n",
    "                        out.write(entries[word]+\" \")\n",
    "                    out.write(\"\\n\")"
   ]
  }
 ],
 "metadata": {
  "kernelspec": {
   "display_name": "Python [default]",
   "language": "python",
   "name": "python3"
  },
  "language_info": {
   "codemirror_mode": {
    "name": "ipython",
    "version": 3
   },
   "file_extension": ".py",
   "mimetype": "text/x-python",
   "name": "python",
   "nbconvert_exporter": "python",
   "pygments_lexer": "ipython3",
   "version": "3.5.3"
  }
 },
 "nbformat": 4,
 "nbformat_minor": 2
}
