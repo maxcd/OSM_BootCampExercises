{
 "cells": [
  {
   "cell_type": "markdown",
   "metadata": {},
   "source": [
    "### Problem 1."
   ]
  },
  {
   "cell_type": "code",
   "execution_count": 10,
   "metadata": {
    "collapsed": true
   },
   "outputs": [],
   "source": [
    "def prob1(list_obj):\n",
    "    return [min(list_obj), max(list_obj), 1/len(list_obj) * sum(list_obj)]"
   ]
  },
  {
   "cell_type": "code",
   "execution_count": 13,
   "metadata": {},
   "outputs": [
    {
     "data": {
      "text/plain": [
       "[1, 6, 3.5]"
      ]
     },
     "execution_count": 13,
     "metadata": {},
     "output_type": "execute_result"
    }
   ],
   "source": [
    "a = [1, 2, 3, 4, 5, 6]\n",
    "prob1(a)\n"
   ]
  },
  {
   "cell_type": "markdown",
   "metadata": {},
   "source": [
    "### Problem 2."
   ]
  },
  {
   "cell_type": "code",
   "execution_count": 16,
   "metadata": {},
   "outputs": [
    {
     "data": {
      "text/plain": [
       "False"
      ]
     },
     "execution_count": 16,
     "metadata": {},
     "output_type": "execute_result"
    }
   ],
   "source": [
    "num = 3\n",
    "num2 = num\n",
    "num2 += 1\n",
    "num2 == num"
   ]
  },
  {
   "cell_type": "code",
   "execution_count": 18,
   "metadata": {},
   "outputs": [
    {
     "data": {
      "text/plain": [
       "False"
      ]
     },
     "execution_count": 18,
     "metadata": {},
     "output_type": "execute_result"
    }
   ],
   "source": [
    "string = 'hello world'\n",
    "string2 = string\n",
    "string2 += 'a'\n",
    "string2 == string"
   ]
  },
  {
   "cell_type": "code",
   "execution_count": 20,
   "metadata": {},
   "outputs": [
    {
     "data": {
      "text/plain": [
       "True"
      ]
     },
     "execution_count": 20,
     "metadata": {},
     "output_type": "execute_result"
    }
   ],
   "source": [
    "list1 = [1, 2.234, 3, 'blub']\n",
    "list2 = list1\n",
    "list2.append(1)\n",
    "list1 == list2"
   ]
  },
  {
   "cell_type": "code",
   "execution_count": 22,
   "metadata": {},
   "outputs": [
    {
     "data": {
      "text/plain": [
       "False"
      ]
     },
     "execution_count": 22,
     "metadata": {},
     "output_type": "execute_result"
    }
   ],
   "source": [
    "tup = (1, 2, 4)\n",
    "tup2 = tup \n",
    "tup2 += (1,)\n",
    "tup2 == tup"
   ]
  },
  {
   "cell_type": "code",
   "execution_count": 25,
   "metadata": {},
   "outputs": [
    {
     "data": {
      "text/plain": [
       "True"
      ]
     },
     "execution_count": 25,
     "metadata": {},
     "output_type": "execute_result"
    }
   ],
   "source": [
    "dict1 = {'one': 1, 'two': 2}\n",
    "dict2 = dict1\n",
    "dict2[1] = 'a'\n",
    "dict2 == dict1"
   ]
  },
  {
   "cell_type": "markdown",
   "metadata": {},
   "source": [
    "#### Conclusion:\n",
    "In the case of numbers, strings and tuples where the result was 'False' this indicates that a copy has been made. Hence, these types are immutable. In the case of lists and dictionaries the result was 'True' indicating that no copy has been made and that these types are mutable."
   ]
  },
  {
   "cell_type": "markdown",
   "metadata": {},
   "source": [
    "### Problem 4."
   ]
  },
  {
   "cell_type": "code",
   "execution_count": 6,
   "metadata": {},
   "outputs": [
    {
     "name": "stdout",
     "output_type": "stream",
     "text": [
      "Please enter the player's name: max\n",
      "Numbers left: [1, 2, 3, 4, 5, 6, 7, 8, 9]\n",
      "Roll: 4\n",
      "Numbers to eliminate: 4\n",
      "\n",
      "\n",
      "Numbers left: [1, 2, 3, 5, 6, 7, 8, 9]\n",
      "Roll: 8\n",
      "Numbers to eliminate: 8 \n",
      "\n",
      "\n",
      "Numbers left: [1, 2, 3, 5, 6, 7, 9]\n",
      "Roll: 4\n",
      "Numbers to eliminate: 3 1\n",
      "\n",
      "\n",
      "Numbers left: [2, 5, 6, 7, 9]\n",
      "Roll: 6\n",
      "Numbers to eliminate: 6 \n",
      "\n",
      "\n",
      "Numbers left: [2, 5, 7, 9]\n",
      "Roll: 3\n",
      "Game Over!\n",
      "Score of the Player max: 23 points\n"
     ]
    }
   ],
   "source": [
    "import box as bx\n",
    "import random\n",
    "import sys\n",
    "import random\n",
    "\n",
    "def box_game():\n",
    "    if len(sys.argv) != 2:\n",
    "        player = str(input(\"Please enter the player's name: \"))\n",
    "    else:\n",
    "        player = sys.argv[1]\n",
    "\n",
    "    # initiate the numbers\n",
    "    remaining = list(range(1,10))\n",
    "    valid = True\n",
    "\n",
    "    while valid == True:\n",
    "        print('Numbers left:', remaining)\n",
    "\n",
    "        if sum(remaining) >= 6:\n",
    "            roll = random.randint(1, 6) + random.randint(1, 6)\n",
    "        else:\n",
    "            roll = random.randint(1, 6)\n",
    "        print(\"Roll:\", roll)\n",
    "\n",
    "        valid = bx.isvalid(roll, remaining)\n",
    "        if not valid:\n",
    "            \n",
    "            statement = 'Game Over!\\nScore of the Player {0}: {1} points'.format(player, sum(remaining))\n",
    "            print(statement)\n",
    "            \n",
    "            break\n",
    "\n",
    "        pl_input = input(\"Numbers to eliminate: \")\n",
    "        print(\"\\n\")\n",
    "        eliminate = bx.parse_input(pl_input, remaining)\n",
    "\n",
    "        if (sum(eliminate) == roll):\n",
    "            remaining = [x for x in remaining if x not in eliminate]\n",
    "\n",
    "        else:\n",
    "            print(\"Invalid Input\")\n",
    "            pl_input = input(\"Numbers to eliminate: \")\n",
    "            eliminate = bx.parse_input(pl_input, remaining)\n",
    "\n",
    "        if len(remaining) == 0:\n",
    "            statement = \"Score for player TA: 0 points \\n Congratulations!! You shut the box!\"\n",
    "            print(statement)\n",
    "            break\n",
    "\n",
    "if __name__ == \"__main__\":\n",
    "    box_game()"
   ]
  }
 ],
 "metadata": {
  "kernelspec": {
   "display_name": "Python [default]",
   "language": "python",
   "name": "python3"
  },
  "language_info": {
   "codemirror_mode": {
    "name": "ipython",
    "version": 3
   },
   "file_extension": ".py",
   "mimetype": "text/x-python",
   "name": "python",
   "nbconvert_exporter": "python",
   "pygments_lexer": "ipython3",
   "version": "3.5.3"
  }
 },
 "nbformat": 4,
 "nbformat_minor": 2
}
