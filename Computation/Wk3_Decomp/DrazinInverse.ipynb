{
 "cells": [
  {
   "cell_type": "markdown",
   "metadata": {},
   "source": [
    "### Lab 16\n",
    "## The Drazin Inverse"
   ]
  },
  {
   "cell_type": "markdown",
   "metadata": {},
   "source": [
    "### Problem 1.\n",
    "Check for properties of the Drazion Inverse for a given matrix A and return True if all three are satisfied."
   ]
  },
  {
   "cell_type": "code",
   "execution_count": 5,
   "metadata": {
    "collapsed": true
   },
   "outputs": [],
   "source": [
    "import numpy as np\n",
    "import scipy.linalg as la"
   ]
  },
  {
   "cell_type": "code",
   "execution_count": 14,
   "metadata": {
    "collapsed": true
   },
   "outputs": [],
   "source": [
    "def is_drazin(A, AD, k):\n",
    "    \n",
    "    satisfied = np.zeros(3, dtype=int)\n",
    "    \n",
    "    AAD = A @ AD\n",
    "    ADA = AD @ A\n",
    "    satisfied[0] = (AAD == ADA).all()\n",
    "    \n",
    "    Ak1 = np.linalg.matrix_power(A, k+1)\n",
    "    Ak = np.linalg.matrix_power(A, k)\n",
    "    satisfied[1] = (Ak1 @ AD == Ak).all()\n",
    "    \n",
    "    satisfied[2] = (AD @ AAD == AD).all()\n",
    "    \n",
    "    answer = (satisfied == True).all()\n",
    "    return answer"
   ]
  },
  {
   "cell_type": "code",
   "execution_count": 16,
   "metadata": {},
   "outputs": [
    {
     "data": {
      "text/plain": [
       "True"
      ]
     },
     "execution_count": 16,
     "metadata": {},
     "output_type": "execute_result"
    }
   ],
   "source": [
    "A = np.array([[1, 3, 0, 0],\n",
    "              [0, 1, 3, 0],\n",
    "              [0, 0, 1, 3],\n",
    "              [0, 0, 0, 0]])\n",
    "AD = np.array([[1,-3, 9, 81],\n",
    "               [0, 1, -3, -18],\n",
    "               [0, 0, 1, 3],\n",
    "               [0, 0, 0, 0]])\n",
    "np.allclose(is_drazin(A, AD, 1), True)"
   ]
  },
  {
   "cell_type": "code",
   "execution_count": 20,
   "metadata": {},
   "outputs": [
    {
     "data": {
      "text/plain": [
       "True"
      ]
     },
     "execution_count": 20,
     "metadata": {},
     "output_type": "execute_result"
    }
   ],
   "source": [
    "B = np.array([[1, 1, 3],\n",
    "          [5, 2, 6,],\n",
    "          [-2, -1, -3]])\n",
    "BD = np.zeros((3,3))\n",
    "np.allclose(is_drazin(B, BD, 3), True)"
   ]
  },
  {
   "cell_type": "markdown",
   "metadata": {},
   "source": [
    "### Problem 2.\n",
    "Implementing the algorithm to compute the Drazin Inverse."
   ]
  },
  {
   "cell_type": "code",
   "execution_count": 43,
   "metadata": {},
   "outputs": [],
   "source": [
    "def drazin_inv(A, tol=1e-5):\n",
    "    \n",
    "    '''\n",
    "        A must be square\n",
    "    '''\n",
    "    \n",
    "    n, _ = A.shape\n",
    "    f1 = lambda x: abs(x) > tol\n",
    "    f2 = lambda x: abs(x) <= tol\n",
    "    Q1, S, k1, = la.schur(A, sort=f1)\n",
    "    Q2, T, k2 = la.schur(A, sort=f2)\n",
    "    U = np.column_stack([S[:,:k1], T[:,:n-k1]])\n",
    "    U_inv = la.inv(U)\n",
    "    V = U_inv @ A @ U\n",
    "    Z = np.zeros((n,n), dtype=float)\n",
    "    if k1 != 0:\n",
    "        M_inv = la.inv(V[:k1, :k1])\n",
    "        Z[:k1, :k1] = M_inv\n",
    "    return U @ Z @ U_inv\n",
    "    "
   ]
  },
  {
   "cell_type": "code",
   "execution_count": 49,
   "metadata": {},
   "outputs": [
    {
     "data": {
      "text/plain": [
       "True"
      ]
     },
     "execution_count": 49,
     "metadata": {},
     "output_type": "execute_result"
    }
   ],
   "source": [
    "C = drazin_inv(B)\n",
    "is_drazin(B, C, 10)"
   ]
  },
  {
   "cell_type": "markdown",
   "metadata": {},
   "source": [
    "### Problem 3.\n"
   ]
  }
 ],
 "metadata": {
  "kernelspec": {
   "display_name": "Python [default]",
   "language": "python",
   "name": "python3"
  },
  "language_info": {
   "codemirror_mode": {
    "name": "ipython",
    "version": 3
   },
   "file_extension": ".py",
   "mimetype": "text/x-python",
   "name": "python",
   "nbconvert_exporter": "python",
   "pygments_lexer": "ipython3",
   "version": "3.5.3"
  }
 },
 "nbformat": 4,
 "nbformat_minor": 2
}
