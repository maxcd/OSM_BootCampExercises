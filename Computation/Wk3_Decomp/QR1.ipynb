{
 "cells": [
  {
   "cell_type": "code",
   "execution_count": 3,
   "metadata": {},
   "outputs": [],
   "source": [
    "import numpy as np\n",
    "from scipy import linalg as la"
   ]
  },
  {
   "cell_type": "markdown",
   "metadata": {},
   "source": [
    "### Exercise 1."
   ]
  },
  {
   "cell_type": "code",
   "execution_count": 26,
   "metadata": {
    "collapsed": true
   },
   "outputs": [],
   "source": [
    "def reduced_QR_decomp(A):\n",
    "    '''\n",
    "    A should be an m x n matrix\n",
    "    '''\n",
    "    dims = A.shape\n",
    "    n = dims[1]\n",
    "    Q = A.copy()\n",
    "    R = np.zeros((n, n))\n",
    "    for i in range(n-1):\n",
    "        R[i, i] = la.norm(Q[:, i])\n",
    "        Q[:, i] = Q[:, i] / R[i, i]\n",
    "        \n",
    "        for j in range(i+1, n-1):\n",
    "            R[i, j] = Q[:, j] @ Q[:, i]\n",
    "            Q[:, j] -= R[i, j] * Q[:,i]\n",
    "    \n",
    "    return Q, R "
   ]
  },
  {
   "cell_type": "code",
   "execution_count": 27,
   "metadata": {},
   "outputs": [
    {
     "data": {
      "text/plain": [
       "array([[-0.65548522,  0.29745347, -0.25504049,  0.05209052],\n",
       "       [-0.4715937 , -0.22809548,  0.50437211,  0.54472959],\n",
       "       [-0.36497521,  0.33275794, -0.48006448,  0.03597978],\n",
       "       [-0.32978831, -0.01733171,  0.3233467 , -0.8300042 ],\n",
       "       [-0.32437986, -0.57144071,  0.0429643 , -0.08980914],\n",
       "       [-0.02736753, -0.64955459, -0.5862612 , -0.04784403]])"
      ]
     },
     "execution_count": 27,
     "metadata": {},
     "output_type": "execute_result"
    }
   ],
   "source": [
    "A = np.random.random((6,4))\n",
    "Q,R = la.qr(A, mode=\"economic\") # Use mode=\"economic\" for reduced QR.\n",
    "Q"
   ]
  },
  {
   "cell_type": "code",
   "execution_count": 56,
   "metadata": {},
   "outputs": [
    {
     "data": {
      "text/plain": [
       "array([[ True,  True,  True, False],\n",
       "       [ True,  True,  True, False],\n",
       "       [ True,  True,  True, False],\n",
       "       [ True,  True,  True, False],\n",
       "       [ True,  True,  True, False],\n",
       "       [ True,  True,  True, False]], dtype=bool)"
      ]
     },
     "execution_count": 56,
     "metadata": {},
     "output_type": "execute_result"
    }
   ],
   "source": [
    "Q_hat, R_hat = reduced_QR_decomp(A)\n",
    "Q_hat.round(5) == -Q.round(5)"
   ]
  },
  {
   "cell_type": "code",
   "execution_count": 57,
   "metadata": {},
   "outputs": [
    {
     "data": {
      "text/plain": [
       "array([[ 1.29187936,  1.06944085,  1.24597579,  0.        ],\n",
       "       [ 0.        ,  0.95464771,  0.70190095,  0.        ],\n",
       "       [ 0.        ,  0.        ,  0.63991656,  0.        ],\n",
       "       [ 0.        ,  0.        ,  0.        ,  0.        ]])"
      ]
     },
     "execution_count": 57,
     "metadata": {},
     "output_type": "execute_result"
    }
   ],
   "source": [
    "R_hat"
   ]
  },
  {
   "cell_type": "code",
   "execution_count": 32,
   "metadata": {},
   "outputs": [
    {
     "data": {
      "text/plain": [
       "True"
      ]
     },
     "execution_count": 32,
     "metadata": {},
     "output_type": "execute_result"
    }
   ],
   "source": [
    "np.allclose(np.triu(R_hat), R_hat)"
   ]
  },
  {
   "cell_type": "code",
   "execution_count": 34,
   "metadata": {},
   "outputs": [
    {
     "data": {
      "text/plain": [
       "True"
      ]
     },
     "execution_count": 34,
     "metadata": {},
     "output_type": "execute_result"
    }
   ],
   "source": [
    "np.allclose(np.dot(Q.T, Q), np.identity(4))"
   ]
  },
  {
   "cell_type": "code",
   "execution_count": 43,
   "metadata": {},
   "outputs": [
    {
     "data": {
      "text/plain": [
       "True"
      ]
     },
     "execution_count": 43,
     "metadata": {},
     "output_type": "execute_result"
    }
   ],
   "source": [
    "np.allclose(np.dot(Q,R), A)"
   ]
  },
  {
   "cell_type": "markdown",
   "metadata": {},
   "source": [
    "### Exercise 2."
   ]
  },
  {
   "cell_type": "code",
   "execution_count": 64,
   "metadata": {
    "collapsed": true
   },
   "outputs": [],
   "source": [
    "def det_via_QR(A):\n",
    "    '''\n",
    "    A must be a square matrix\n",
    "    '''\n",
    "    determinante =  np.diag(la.qr(B)[1]).prod()\n",
    "    return np.abs(determinante)"
   ]
  },
  {
   "cell_type": "code",
   "execution_count": 81,
   "metadata": {},
   "outputs": [
    {
     "data": {
      "text/plain": [
       "True"
      ]
     },
     "execution_count": 81,
     "metadata": {},
     "output_type": "execute_result"
    }
   ],
   "source": [
    "B = np.random.random((4,4))\n",
    "np.round(det_via_QR(B), 4) == np.round(la.det(B), 4)"
   ]
  },
  {
   "cell_type": "markdown",
   "metadata": {},
   "source": [
    "### Exercise 3."
   ]
  },
  {
   "cell_type": "code",
   "execution_count": 164,
   "metadata": {},
   "outputs": [],
   "source": [
    "def qr_solve(A, b):\n",
    "    '''\n",
    "    solving the linear system Ax=b\n",
    "    '''\n",
    "    Q, R = la.qr(A)\n",
    "    y = Q.T @ b\n",
    "    n = len(B)\n",
    "    x = np.zeros(n)\n",
    "    for i in range(1, n+1):\n",
    "        if i == 1:\n",
    "            x[n-i] = y[n-i] / R[n-i, n-i]\n",
    "        else:\n",
    "            x_vec = R[n-i, n+1-i:] @ x[n+1-i:]\n",
    "            x[n-i] = (y[n-i] -  x_vec) / R[n-i, n-i]\n",
    "        \n",
    "    return x\n",
    "        \n",
    "        "
   ]
  },
  {
   "cell_type": "code",
   "execution_count": 165,
   "metadata": {},
   "outputs": [
    {
     "data": {
      "text/plain": [
       "array([ 1.,  2.,  3.,  4.])"
      ]
     },
     "execution_count": 165,
     "metadata": {},
     "output_type": "execute_result"
    }
   ],
   "source": [
    "b = B @ np.array([1, 2, 3, 4])\n",
    "qr_solve(B, b)"
   ]
  },
  {
   "cell_type": "markdown",
   "metadata": {},
   "source": [
    "### Exercise 4."
   ]
  },
  {
   "cell_type": "code",
   "execution_count": 247,
   "metadata": {},
   "outputs": [],
   "source": [
    "def qr_house(A):\n",
    "    \n",
    "    sign = lambda x: 1 if x >= 0 else -1\n",
    "    m, n = A.shape[0], A.shape[1]\n",
    "    R = A.copy()\n",
    "    Q = np.identity(m)\n",
    "    for k in range(n-1):\n",
    "        u = R[k:, k].copy()\n",
    "        u[0] += sign(u[0]) * la.norm(u)\n",
    "        u = u / la.norm(u)\n",
    "        R[k:, k:] -= 2 * np.outer(u, u.T @ R[k:, k:])\n",
    "        Q[k:,:] -= 2 * np.outer(u, u.T @ Q[k:,:])\n",
    "        \n",
    "    return Q.T, R"
   ]
  },
  {
   "cell_type": "code",
   "execution_count": 248,
   "metadata": {},
   "outputs": [
    {
     "data": {
      "text/plain": [
       "True"
      ]
     },
     "execution_count": 248,
     "metadata": {},
     "output_type": "execute_result"
    }
   ],
   "source": [
    "A = np.random.random((5, 3))\n",
    "Q,R = la.qr(A) # Get the full QR decomposition.\n",
    "Q_hat, R_hat = qr_house(A)\n",
    "np.allclose(Q_hat.dot(R_hat), A)"
   ]
  },
  {
   "cell_type": "markdown",
   "metadata": {},
   "source": [
    "### Problem 5."
   ]
  },
  {
   "cell_type": "code",
   "execution_count": 255,
   "metadata": {
    "collapsed": true
   },
   "outputs": [],
   "source": [
    "def hessenberg(A):\n",
    "    \n",
    "    sign = lambda x: 1 if x >= 0 else -1\n",
    "    \n",
    "    m, n, = A.shape[0], A.shape[1]\n",
    "    H = A.copy()\n",
    "    Q = np.identity(m)\n",
    "    \n",
    "    for k in range(n-3):\n",
    "        u = H[k+1:,k].copy()\n",
    "        u[0] += sign(u[0]) * la.norm(u)\n",
    "        u = u / la.norm(u)\n",
    "        H[k+1:,k:] -= 2 * np.outer(u, u.T @ H[k+1:,k:])\n",
    "        H[:,k+1:] -= 2 * np.outer(H[:,k+1:] @ u, u)\n",
    "        Q[k+1:,:] -= 2 * np.outer(u, u.T @ Q[k+1:,:])\n",
    "        \n",
    "        return H, Q.T"
   ]
  },
  {
   "cell_type": "code",
   "execution_count": 256,
   "metadata": {},
   "outputs": [],
   "source": [
    "A = np.random.random((8,8))\n",
    "H, Q = la.hessenberg(A, calc_q=True)"
   ]
  },
  {
   "cell_type": "code",
   "execution_count": 257,
   "metadata": {},
   "outputs": [
    {
     "data": {
      "text/plain": [
       "True"
      ]
     },
     "execution_count": 257,
     "metadata": {},
     "output_type": "execute_result"
    }
   ],
   "source": [
    "H_hat, Q_hat = hessenberg(A)\n",
    "np.allclose(np.triu(H_hat, -1), H_hat)\n",
    "np.allclose(np.dot(np.dot(Q_hat, H_hat), Q_hat.T), A)"
   ]
  }
 ],
 "metadata": {
  "kernelspec": {
   "display_name": "Python [default]",
   "language": "python",
   "name": "python3"
  },
  "language_info": {
   "codemirror_mode": {
    "name": "ipython",
    "version": 3
   },
   "file_extension": ".py",
   "mimetype": "text/x-python",
   "name": "python",
   "nbconvert_exporter": "python",
   "pygments_lexer": "ipython3",
   "version": "3.5.3"
  }
 },
 "nbformat": 4,
 "nbformat_minor": 2
}
